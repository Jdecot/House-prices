{
 "cells": [
  {
   "cell_type": "code",
   "execution_count": 1,
   "metadata": {
    "scrolled": false
   },
   "outputs": [],
   "source": [
    "import os\n",
    "import numpy as np # linear algebra\n",
    "import pandas as pd \n",
    "import matplotlib.pyplot as plt\n",
    "import seaborn as sns \n",
    "import statsmodels.api as sm\n",
    "\n",
    "import copy\n",
    "from statsmodels.formula.api import ols\n",
    "from collections import Counter, defaultdict\n",
    "from sklearn.model_selection import train_test_split\n",
    "import LibrairiePerso_v4_8 as ownLibrary\n",
    "\n",
    "'''\n",
    "import sys\n",
    "sys.path.append(\"c:\\python38\\lib\\site-packages\")\n",
    "'''\n",
    "#import importlib\n",
    "#importlib.reload(ownLibrary)\n",
    "\n",
    "pd.set_option('display.max_columns', 500)"
   ]
  },
  {
   "cell_type": "code",
   "execution_count": 2,
   "metadata": {},
   "outputs": [],
   "source": [
    "#pip install statsmodels"
   ]
  },
  {
   "cell_type": "code",
   "execution_count": 3,
   "metadata": {},
   "outputs": [
    {
     "data": {
      "text/plain": [
       "\"\\nfor df in [X_train, X_test]:\\n    df.drop(['SalePrice'], axis=1, inplace=True)\\n\""
      ]
     },
     "execution_count": 3,
     "metadata": {},
     "output_type": "execute_result"
    }
   ],
   "source": [
    "import os\n",
    "cwd = os.getcwd()\n",
    "\n",
    "\n",
    "train_rwrk = pd.read_csv(cwd + \"\\\\data\\\\train_step_2.csv\", sep=\",\")\n",
    "#y_train=X_train['SalePrice']\n",
    "\n",
    "test_rwrk = pd.read_csv(cwd + \"\\\\data\\\\test_step_2.csv\", sep=\",\")\n",
    "#y_test=X_test['SalePrice']\n",
    "\n",
    "submission = pd.read_csv(cwd + \"\\\\data\\\\submission_step_2.csv\", sep=\",\")\n",
    "\n",
    "'''\n",
    "for df in [X_train, X_test]:\n",
    "    df.drop(['SalePrice'], axis=1, inplace=True)\n",
    "'''"
   ]
  },
  {
   "cell_type": "markdown",
   "metadata": {},
   "source": [
    "# Modeling"
   ]
  },
  {
   "cell_type": "code",
   "execution_count": 4,
   "metadata": {},
   "outputs": [],
   "source": [
    "from sklearn.neighbors import KNeighborsRegressor\n",
    "from sklearn.model_selection import GridSearchCV\n",
    "from sklearn.neural_network import MLPClassifier\n",
    "from sklearn.ensemble import RandomForestRegressor\n",
    "from sklearn.tree import DecisionTreeClassifier\n",
    "from sklearn.tree import DecisionTreeRegressor\n",
    "from sklearn.model_selection import cross_val_score\n",
    "from sklearn.linear_model import LinearRegression\n",
    "from sklearn.metrics import mean_squared_error, r2_score\n",
    "from sklearn.linear_model import Ridge\n",
    "\n",
    "import scipy\n",
    "from scipy import stats"
   ]
  },
  {
   "cell_type": "markdown",
   "metadata": {},
   "source": [
    "## One-Hot encoding"
   ]
  },
  {
   "cell_type": "code",
   "execution_count": 5,
   "metadata": {},
   "outputs": [
    {
     "data": {
      "text/html": [
       "<div>\n",
       "<style scoped>\n",
       "    .dataframe tbody tr th:only-of-type {\n",
       "        vertical-align: middle;\n",
       "    }\n",
       "\n",
       "    .dataframe tbody tr th {\n",
       "        vertical-align: top;\n",
       "    }\n",
       "\n",
       "    .dataframe thead th {\n",
       "        text-align: right;\n",
       "    }\n",
       "</style>\n",
       "<table border=\"1\" class=\"dataframe\">\n",
       "  <thead>\n",
       "    <tr style=\"text-align: right;\">\n",
       "      <th></th>\n",
       "      <th>Id</th>\n",
       "      <th>MasVnrArea</th>\n",
       "      <th>BsmtFinSF1</th>\n",
       "      <th>BsmtUnfSF</th>\n",
       "      <th>TotalBsmtSF</th>\n",
       "      <th>1stFlrSF</th>\n",
       "      <th>2ndFlrSF</th>\n",
       "      <th>GrLivArea</th>\n",
       "      <th>GarageArea</th>\n",
       "      <th>ScreenPorch</th>\n",
       "      <th>MiscVal</th>\n",
       "      <th>TotalSF</th>\n",
       "      <th>Total_sqr_footage</th>\n",
       "      <th>Total_Bathrooms</th>\n",
       "      <th>Total_porch_sf</th>\n",
       "      <th>haspool</th>\n",
       "      <th>has2ndfloor</th>\n",
       "      <th>hasgarage</th>\n",
       "      <th>hasbsmt</th>\n",
       "      <th>hasfireplace</th>\n",
       "      <th>SalePrice_log</th>\n",
       "      <th>MSSubClass</th>\n",
       "      <th>MSZoning</th>\n",
       "      <th>LotFrontage</th>\n",
       "      <th>LotArea</th>\n",
       "      <th>Alley</th>\n",
       "      <th>LotShape</th>\n",
       "      <th>LandContour</th>\n",
       "      <th>LotConfig</th>\n",
       "      <th>LandSlope</th>\n",
       "      <th>Neighborhood</th>\n",
       "      <th>Condition1</th>\n",
       "      <th>BldgType</th>\n",
       "      <th>HouseStyle</th>\n",
       "      <th>OverallQual</th>\n",
       "      <th>OverallCond</th>\n",
       "      <th>YearBuilt</th>\n",
       "      <th>YearRemodAdd</th>\n",
       "      <th>RoofStyle</th>\n",
       "      <th>Exterior1st</th>\n",
       "      <th>Exterior2nd</th>\n",
       "      <th>MasVnrType</th>\n",
       "      <th>Foundation</th>\n",
       "      <th>BsmtQual</th>\n",
       "      <th>BsmtCond</th>\n",
       "      <th>BsmtExposure</th>\n",
       "      <th>BsmtFinType1</th>\n",
       "      <th>BsmtFinType2</th>\n",
       "      <th>BsmtFinSF2</th>\n",
       "      <th>HeatingQC</th>\n",
       "      <th>BsmtFullBath</th>\n",
       "      <th>BsmtHalfBath</th>\n",
       "      <th>FullBath</th>\n",
       "      <th>HalfBath</th>\n",
       "      <th>BedroomAbvGr</th>\n",
       "      <th>TotRmsAbvGrd</th>\n",
       "      <th>Functional</th>\n",
       "      <th>GarageType</th>\n",
       "      <th>GarageYrBlt</th>\n",
       "      <th>GarageFinish</th>\n",
       "      <th>GarageCars</th>\n",
       "      <th>GarageQual</th>\n",
       "      <th>GarageCond</th>\n",
       "      <th>PavedDrive</th>\n",
       "      <th>WoodDeckSF</th>\n",
       "      <th>OpenPorchSF</th>\n",
       "      <th>EnclosedPorch</th>\n",
       "      <th>Fence</th>\n",
       "      <th>MoSold</th>\n",
       "      <th>YrSold</th>\n",
       "      <th>YrBltAndRemod</th>\n",
       "      <th>NewFirePlaces</th>\n",
       "      <th>NewExterQualCond</th>\n",
       "      <th>NewCentrAirElec</th>\n",
       "      <th>NewKitchen</th>\n",
       "      <th>NewSale</th>\n",
       "      <th>SalePrice</th>\n",
       "      <th>1stFlrSF²</th>\n",
       "      <th>1stFlrSFGarageArea</th>\n",
       "      <th>GarageArea²</th>\n",
       "      <th>PR3_6</th>\n",
       "      <th>PR3_7</th>\n",
       "      <th>PR3_8</th>\n",
       "      <th>PR3_9</th>\n",
       "      <th>PR3_10</th>\n",
       "      <th>PR3_11</th>\n",
       "      <th>PR3_12</th>\n",
       "      <th>PR3_13</th>\n",
       "      <th>PR3_14</th>\n",
       "      <th>PR3_15</th>\n",
       "      <th>PR3_16</th>\n",
       "      <th>PR3_17</th>\n",
       "      <th>PR3_18</th>\n",
       "      <th>PR3_19</th>\n",
       "      <th>PR3_20</th>\n",
       "      <th>PR3_21</th>\n",
       "      <th>PR3_22</th>\n",
       "      <th>PR3_23</th>\n",
       "      <th>PR3_24</th>\n",
       "      <th>PR3_25</th>\n",
       "      <th>PR3_26</th>\n",
       "      <th>PR3_27</th>\n",
       "      <th>PR3_28</th>\n",
       "      <th>PR3_29</th>\n",
       "      <th>PR3_30</th>\n",
       "      <th>PR3_31</th>\n",
       "      <th>PR3_32</th>\n",
       "      <th>PR3_33</th>\n",
       "      <th>PR3_34</th>\n",
       "      <th>PR3_35</th>\n",
       "      <th>PR3_36</th>\n",
       "      <th>PR3_37</th>\n",
       "      <th>PR3_38</th>\n",
       "      <th>PR3_39</th>\n",
       "      <th>PR3_40</th>\n",
       "      <th>PR3_41</th>\n",
       "      <th>PR3_42</th>\n",
       "      <th>PR3_43</th>\n",
       "      <th>PR3_44</th>\n",
       "      <th>PR3_45</th>\n",
       "      <th>PR3_46</th>\n",
       "      <th>PR3_47</th>\n",
       "      <th>PR3_48</th>\n",
       "      <th>PR3_49</th>\n",
       "      <th>PR3_50</th>\n",
       "      <th>PR3_51</th>\n",
       "      <th>PR3_52</th>\n",
       "      <th>PR3_53</th>\n",
       "      <th>PR3_54</th>\n",
       "      <th>PR3_55</th>\n",
       "    </tr>\n",
       "  </thead>\n",
       "  <tbody>\n",
       "    <tr>\n",
       "      <th>0</th>\n",
       "      <td>211</td>\n",
       "      <td>0.0</td>\n",
       "      <td>468</td>\n",
       "      <td>396</td>\n",
       "      <td>864</td>\n",
       "      <td>864</td>\n",
       "      <td>0</td>\n",
       "      <td>864</td>\n",
       "      <td>0</td>\n",
       "      <td>0</td>\n",
       "      <td>0</td>\n",
       "      <td>1728</td>\n",
       "      <td>1332</td>\n",
       "      <td>2.0</td>\n",
       "      <td>96</td>\n",
       "      <td>0</td>\n",
       "      <td>0</td>\n",
       "      <td>0</td>\n",
       "      <td>1</td>\n",
       "      <td>0</td>\n",
       "      <td>11.492723</td>\n",
       "      <td>2</td>\n",
       "      <td>2</td>\n",
       "      <td>2</td>\n",
       "      <td>1</td>\n",
       "      <td>2</td>\n",
       "      <td>1</td>\n",
       "      <td>1</td>\n",
       "      <td>1</td>\n",
       "      <td>1</td>\n",
       "      <td>3</td>\n",
       "      <td>2</td>\n",
       "      <td>1</td>\n",
       "      <td>2</td>\n",
       "      <td>2</td>\n",
       "      <td>3</td>\n",
       "      <td>1</td>\n",
       "      <td>1</td>\n",
       "      <td>2</td>\n",
       "      <td>2</td>\n",
       "      <td>1</td>\n",
       "      <td>1</td>\n",
       "      <td>2</td>\n",
       "      <td>2</td>\n",
       "      <td>1</td>\n",
       "      <td>1</td>\n",
       "      <td>2</td>\n",
       "      <td>1</td>\n",
       "      <td>1</td>\n",
       "      <td>2</td>\n",
       "      <td>2</td>\n",
       "      <td>1</td>\n",
       "      <td>1</td>\n",
       "      <td>1</td>\n",
       "      <td>1</td>\n",
       "      <td>3</td>\n",
       "      <td>1</td>\n",
       "      <td>5</td>\n",
       "      <td>1</td>\n",
       "      <td>3</td>\n",
       "      <td>1</td>\n",
       "      <td>3</td>\n",
       "      <td>3</td>\n",
       "      <td>1</td>\n",
       "      <td>1</td>\n",
       "      <td>1</td>\n",
       "      <td>3</td>\n",
       "      <td>1</td>\n",
       "      <td>1</td>\n",
       "      <td>3</td>\n",
       "      <td>1</td>\n",
       "      <td>14</td>\n",
       "      <td>21</td>\n",
       "      <td>22</td>\n",
       "      <td>12</td>\n",
       "      <td>11</td>\n",
       "      <td>98000</td>\n",
       "      <td>746496.0</td>\n",
       "      <td>0.0</td>\n",
       "      <td>0.0</td>\n",
       "      <td>219024.0</td>\n",
       "      <td>185328.0</td>\n",
       "      <td>404352.0</td>\n",
       "      <td>0.0</td>\n",
       "      <td>404352.0</td>\n",
       "      <td>156816.0</td>\n",
       "      <td>342144.0</td>\n",
       "      <td>0.0</td>\n",
       "      <td>342144.0</td>\n",
       "      <td>746496.0</td>\n",
       "      <td>0.0</td>\n",
       "      <td>746496.0</td>\n",
       "      <td>0.0</td>\n",
       "      <td>0.0</td>\n",
       "      <td>746496.0</td>\n",
       "      <td>102503232.0</td>\n",
       "      <td>86733504.0</td>\n",
       "      <td>189236736.0</td>\n",
       "      <td>0.0</td>\n",
       "      <td>189236736.0</td>\n",
       "      <td>73389888.0</td>\n",
       "      <td>160123392.0</td>\n",
       "      <td>0.0</td>\n",
       "      <td>160123392.0</td>\n",
       "      <td>349360128.0</td>\n",
       "      <td>0.0</td>\n",
       "      <td>349360128.0</td>\n",
       "      <td>0.0</td>\n",
       "      <td>0.0</td>\n",
       "      <td>349360128.0</td>\n",
       "      <td>62099136.0</td>\n",
       "      <td>135489024.0</td>\n",
       "      <td>0.0</td>\n",
       "      <td>135489024.0</td>\n",
       "      <td>295612416.0</td>\n",
       "      <td>0.0</td>\n",
       "      <td>295612416.0</td>\n",
       "      <td>0.0</td>\n",
       "      <td>0.0</td>\n",
       "      <td>295612416.0</td>\n",
       "      <td>644972544.0</td>\n",
       "      <td>0.0</td>\n",
       "      <td>644972544.0</td>\n",
       "      <td>0.0</td>\n",
       "      <td>0.0</td>\n",
       "      <td>644972544.0</td>\n",
       "      <td>0.0</td>\n",
       "      <td>0.0</td>\n",
       "      <td>0.0</td>\n",
       "      <td>644972544.0</td>\n",
       "    </tr>\n",
       "  </tbody>\n",
       "</table>\n",
       "</div>"
      ],
      "text/plain": [
       "    Id  MasVnrArea  BsmtFinSF1  BsmtUnfSF  TotalBsmtSF  1stFlrSF  2ndFlrSF  \\\n",
       "0  211         0.0         468        396          864       864         0   \n",
       "\n",
       "   GrLivArea  GarageArea  ScreenPorch  MiscVal  TotalSF  Total_sqr_footage  \\\n",
       "0        864           0            0        0     1728               1332   \n",
       "\n",
       "   Total_Bathrooms  Total_porch_sf  haspool  has2ndfloor  hasgarage  hasbsmt  \\\n",
       "0              2.0              96        0            0          0        1   \n",
       "\n",
       "   hasfireplace  SalePrice_log  MSSubClass  MSZoning  LotFrontage  LotArea  \\\n",
       "0             0      11.492723           2         2            2        1   \n",
       "\n",
       "   Alley  LotShape  LandContour  LotConfig  LandSlope  Neighborhood  \\\n",
       "0      2         1            1          1          1             3   \n",
       "\n",
       "   Condition1  BldgType  HouseStyle  OverallQual  OverallCond  YearBuilt  \\\n",
       "0           2         1           2            2            3          1   \n",
       "\n",
       "   YearRemodAdd  RoofStyle  Exterior1st  Exterior2nd  MasVnrType  Foundation  \\\n",
       "0             1          2            2            1           1           2   \n",
       "\n",
       "   BsmtQual  BsmtCond  BsmtExposure  BsmtFinType1  BsmtFinType2  BsmtFinSF2  \\\n",
       "0         2         1             1             2             1           1   \n",
       "\n",
       "   HeatingQC  BsmtFullBath  BsmtHalfBath  FullBath  HalfBath  BedroomAbvGr  \\\n",
       "0          2             2             1         1         1             1   \n",
       "\n",
       "   TotRmsAbvGrd  Functional  GarageType  GarageYrBlt  GarageFinish  \\\n",
       "0             3           1           5            1             3   \n",
       "\n",
       "   GarageCars  GarageQual  GarageCond  PavedDrive  WoodDeckSF  OpenPorchSF  \\\n",
       "0           1           3           3           1           1            1   \n",
       "\n",
       "   EnclosedPorch  Fence  MoSold  YrSold  YrBltAndRemod  NewFirePlaces  \\\n",
       "0              3      1       1       3              1             14   \n",
       "\n",
       "   NewExterQualCond  NewCentrAirElec  NewKitchen  NewSale  SalePrice  \\\n",
       "0                21               22          12       11      98000   \n",
       "\n",
       "   1stFlrSF²  1stFlrSFGarageArea  GarageArea²     PR3_6     PR3_7     PR3_8  \\\n",
       "0   746496.0                 0.0          0.0  219024.0  185328.0  404352.0   \n",
       "\n",
       "   PR3_9    PR3_10    PR3_11    PR3_12  PR3_13    PR3_14    PR3_15  PR3_16  \\\n",
       "0    0.0  404352.0  156816.0  342144.0     0.0  342144.0  746496.0     0.0   \n",
       "\n",
       "     PR3_17  PR3_18  PR3_19    PR3_20       PR3_21      PR3_22       PR3_23  \\\n",
       "0  746496.0     0.0     0.0  746496.0  102503232.0  86733504.0  189236736.0   \n",
       "\n",
       "   PR3_24       PR3_25      PR3_26       PR3_27  PR3_28       PR3_29  \\\n",
       "0     0.0  189236736.0  73389888.0  160123392.0     0.0  160123392.0   \n",
       "\n",
       "        PR3_30  PR3_31       PR3_32  PR3_33  PR3_34       PR3_35      PR3_36  \\\n",
       "0  349360128.0     0.0  349360128.0     0.0     0.0  349360128.0  62099136.0   \n",
       "\n",
       "        PR3_37  PR3_38       PR3_39       PR3_40  PR3_41       PR3_42  PR3_43  \\\n",
       "0  135489024.0     0.0  135489024.0  295612416.0     0.0  295612416.0     0.0   \n",
       "\n",
       "   PR3_44       PR3_45       PR3_46  PR3_47       PR3_48  PR3_49  PR3_50  \\\n",
       "0     0.0  295612416.0  644972544.0     0.0  644972544.0     0.0     0.0   \n",
       "\n",
       "        PR3_51  PR3_52  PR3_53  PR3_54       PR3_55  \n",
       "0  644972544.0     0.0     0.0     0.0  644972544.0  "
      ]
     },
     "execution_count": 5,
     "metadata": {},
     "output_type": "execute_result"
    }
   ],
   "source": [
    "train_rwrk.head(1)"
   ]
  },
  {
   "cell_type": "code",
   "execution_count": 6,
   "metadata": {},
   "outputs": [],
   "source": [
    "ignore = ['Id','MasVnrArea','BsmtFinSF1','BsmtUnfSF','TotalBsmtSF','1stFlrSF','2ndFlrSF','GrLivArea','GarageArea','ScreenPorch','MiscVal','TotalSF','Total_sqr_footage','Total_Bathrooms','Total_porch_sf','haspool','has2ndfloor','hasgarage','hasbsmt','hasfireplace','SalePrice_log','SalePrice','1stFlrSF²','1stFlrSFGarageArea','GarageArea²','PR3_6','PR3_7','PR3_8','PR3_9','PR3_10','PR3_11','PR3_12','PR3_13','PR3_14','PR3_15','PR3_16','PR3_17','PR3_18','PR3_19','PR3_20','PR3_21','PR3_22','PR3_23','PR3_24','PR3_25','PR3_26','PR3_27','PR3_28','PR3_29','PR3_30','PR3_31','PR3_32','PR3_33','PR3_34','PR3_35','PR3_36','PR3_37','PR3_38','PR3_39','PR3_40','PR3_41','PR3_42','PR3_43','PR3_44','PR3_45','PR3_46','PR3_47','PR3_48','PR3_49','PR3_50','PR3_51','PR3_52','PR3_53','PR3_54','PR3_55']\n",
    "\n",
    "train_rwrk = ownLibrary.dichotomize_dataset(train_rwrk, ignore)\n",
    "test_rwrk = ownLibrary.dichotomize_dataset(test_rwrk, ignore)\n",
    "submission_rwrk = ownLibrary.dichotomize_dataset(submission, ignore)"
   ]
  },
  {
   "cell_type": "markdown",
   "metadata": {},
   "source": [
    "## Features harmonization between datasets\n",
    "\n",
    "Each data must have all features available"
   ]
  },
  {
   "cell_type": "code",
   "execution_count": 7,
   "metadata": {},
   "outputs": [
    {
     "name": "stdout",
     "output_type": "stream",
     "text": [
      "['Exterior1st_3', 'NewKitchen_23', 'Exterior1st_3', 'NewExterQualCond_12', 'NewKitchen_23']\n",
      "['NewCentrAirElec_13', 'NewExterQualCond_12']\n",
      "['GarageQual_2', 'NewCentrAirElec_13', 'SalePrice_log', 'GarageQual_2', 'SalePrice_log']\n"
     ]
    }
   ],
   "source": [
    "a = train_rwrk.columns.difference(test_rwrk.columns)\n",
    "b = submission_rwrk.columns.difference(test_rwrk.columns)\n",
    "manqueTest = a.tolist() + b.tolist()\n",
    "print (manqueTest)\n",
    "\n",
    "\n",
    "c = test_rwrk.columns.difference(train_rwrk.columns)\n",
    "d = submission_rwrk.columns.difference(train_rwrk.columns)\n",
    "manqueTrain = c.tolist() + d.tolist()\n",
    "print (manqueTrain)\n",
    "\n",
    "e = test_rwrk.columns.difference(submission_rwrk.columns)\n",
    "f = train_rwrk.columns.difference(submission_rwrk.columns)\n",
    "manqueSubmission = e.tolist() + f.tolist()\n",
    "print (manqueSubmission)\n",
    "\n",
    "\n",
    "for colonne in manqueTest :\n",
    "    test_rwrk[colonne] = 0\n",
    "\n",
    "for colonne in manqueTrain :\n",
    "    train_rwrk[colonne] = 0\n",
    "\n",
    "for colonne in manqueSubmission :\n",
    "    submission_rwrk[colonne] = 0"
   ]
  },
  {
   "cell_type": "code",
   "execution_count": 8,
   "metadata": {},
   "outputs": [
    {
     "name": "stdout",
     "output_type": "stream",
     "text": [
      "[]\n",
      "[]\n",
      "[]\n"
     ]
    }
   ],
   "source": [
    "a = train_rwrk.columns.difference(test_rwrk.columns)\n",
    "b = submission_rwrk.columns.difference(test_rwrk.columns)\n",
    "manqueTest = a.tolist() + b.tolist()\n",
    "print (manqueTest)\n",
    "\n",
    "\n",
    "c = test_rwrk.columns.difference(train_rwrk.columns)\n",
    "d = submission_rwrk.columns.difference(train_rwrk.columns)\n",
    "manqueTrain = c.tolist() + d.tolist()\n",
    "print (manqueTrain)\n",
    "\n",
    "e = test_rwrk.columns.difference(submission_rwrk.columns)\n",
    "f = train_rwrk.columns.difference(submission_rwrk.columns)\n",
    "manqueSubmission = e.tolist() + f.tolist()\n",
    "print (manqueSubmission)"
   ]
  },
  {
   "cell_type": "markdown",
   "metadata": {},
   "source": [
    "## Research of bests hyperparameters"
   ]
  },
  {
   "cell_type": "code",
   "execution_count": 9,
   "metadata": {},
   "outputs": [
    {
     "data": {
      "text/plain": [
       "\"\\nparams = {\\n    'n_neighbors':[5,7,9,11,13,15,17],\\n    'algorithm':['auto']\\n    }\\n#'algorithm':['auto', 'ball_tree', 'kd_tree', 'brute']\\nknn = KNeighborsRegressor()\\n\\nmodel = GridSearchCV(knn, params, cv=5)\\nmodel.fit(train_rwrk[X], train_rwrk[y])\\nmodel.best_params_\\n\""
      ]
     },
     "execution_count": 9,
     "metadata": {},
     "output_type": "execute_result"
    }
   ],
   "source": [
    "# ---------------- KNN ----------------\n",
    "'''\n",
    "params = {\n",
    "    'n_neighbors':[5,7,9,11,13,15,17],\n",
    "    'algorithm':['auto']\n",
    "    }\n",
    "#'algorithm':['auto', 'ball_tree', 'kd_tree', 'brute']\n",
    "knn = KNeighborsRegressor()\n",
    "\n",
    "model = GridSearchCV(knn, params, cv=5)\n",
    "model.fit(train_rwrk[X], train_rwrk[y])\n",
    "model.best_params_\n",
    "'''\n",
    "\n",
    "#{'algorithm': 'auto', 'n_neighbors': 9}"
   ]
  },
  {
   "cell_type": "code",
   "execution_count": 10,
   "metadata": {},
   "outputs": [
    {
     "data": {
      "text/plain": [
       "\"\\nparams = {\\n    'solver': ['adam','lbfgs','sgd'], \\n    }\\n\\nrn = MLPClassifier()\\n\\nmodel = GridSearchCV(rn, params, cv=5)\\nmodel.fit(train_rwrk[X], train_rwrk[y])\\nmodel.best_params_\\n\""
      ]
     },
     "execution_count": 10,
     "metadata": {},
     "output_type": "execute_result"
    }
   ],
   "source": [
    "# ---------------- Réseaux de neurones ----------------\n",
    "'''\n",
    "params = {\n",
    "    'solver': ['adam','lbfgs','sgd'], \n",
    "    }\n",
    "\n",
    "rn = MLPClassifier()\n",
    "\n",
    "model = GridSearchCV(rn, params, cv=5)\n",
    "model.fit(train_rwrk[X], train_rwrk[y])\n",
    "model.best_params_\n",
    "'''\n",
    "#{'solver': 'adam'}"
   ]
  },
  {
   "cell_type": "code",
   "execution_count": 11,
   "metadata": {},
   "outputs": [
    {
     "data": {
      "text/plain": [
       "\"params = {\\n    'n_estimators':[40,45,50,55,60], \\n    'max_depth':[5,6,7,8,9,10], \\n    'min_samples_split':[2,3,4],\\n    'min_samples_leaf':[1,2,3], \\n    }\\n\\nrfr = RandomForestRegressor()\\n\\nmodel = GridSearchCV(rfr, params, cv=5)\\nmodel.fit(train_rwrk[X], train_rwrk[y])\\nmodel.best_params_\\n\""
      ]
     },
     "execution_count": 11,
     "metadata": {},
     "output_type": "execute_result"
    }
   ],
   "source": [
    "# ---------------- Forêt aléatoire ----------------\n",
    "'''params = {\n",
    "    'n_estimators':[40,45,50,55,60], \n",
    "    'max_depth':[5,6,7,8,9,10], \n",
    "    'min_samples_split':[2,3,4],\n",
    "    'min_samples_leaf':[1,2,3], \n",
    "    }\n",
    "\n",
    "rfr = RandomForestRegressor()\n",
    "\n",
    "model = GridSearchCV(rfr, params, cv=5)\n",
    "model.fit(train_rwrk[X], train_rwrk[y])\n",
    "model.best_params_\n",
    "'''\n",
    "#{'max_depth': 8,\n",
    "# 'min_samples_leaf': 2,\n",
    "# 'min_samples_split': 2,\n",
    "# 'n_estimators': 55}"
   ]
  },
  {
   "cell_type": "code",
   "execution_count": 12,
   "metadata": {},
   "outputs": [
    {
     "data": {
      "text/plain": [
       "\"\\nparams = {\\n    'max_depth':[40,45,50,55,60], \\n    'min_samples_split':[2,3,4],\\n    'min_samples_leaf':[1,2,3], \\n    }\\n\\ndtr = DecisionTreeClassifier()\\n\\nmodel = GridSearchCV(dtr, params, cv=5)\\nmodel.fit(train_rwrk[X], train_rwrk[y])\\nmodel.best_params_\\n\""
      ]
     },
     "execution_count": 12,
     "metadata": {},
     "output_type": "execute_result"
    }
   ],
   "source": [
    "# ---------------- Arbre de décision regressor ----------------\n",
    "\n",
    "'''\n",
    "params = {\n",
    "    'max_depth':[40,45,50,55,60], \n",
    "    'min_samples_split':[2,3,4],\n",
    "    'min_samples_leaf':[1,2,3], \n",
    "    }\n",
    "\n",
    "dtr = DecisionTreeClassifier()\n",
    "\n",
    "model = GridSearchCV(dtr, params, cv=5)\n",
    "model.fit(train_rwrk[X], train_rwrk[y])\n",
    "model.best_params_\n",
    "'''\n",
    "#{'max_depth': 45, 'min_samples_leaf': 2, 'min_samples_split': 3}"
   ]
  },
  {
   "cell_type": "markdown",
   "metadata": {},
   "source": [
    "# Features selection"
   ]
  },
  {
   "cell_type": "code",
   "execution_count": 13,
   "metadata": {},
   "outputs": [
    {
     "name": "stdout",
     "output_type": "stream",
     "text": [
      "For 261 features the stepwise needs around 3 minutes 17\n",
      "You have 256 features\n"
     ]
    }
   ],
   "source": [
    "print('For 261 features the stepwise needs around 3 minutes 17')\n",
    "print('You have ' + str(len(train_rwrk.columns)) + ' features')\n",
    "\n",
    "\n",
    "\n",
    "features = train_rwrk.columns\n",
    "features_selection_ignore = ['SalePrice','Id','SalePrice_log']\n",
    "features_to_use = [var for var in features if var not in features_selection_ignore ]\n",
    "target_feature = 'SalePrice_log'\n",
    "\n",
    "Xtrain = train_rwrk[features_to_use]\n",
    "ytrain = train_rwrk[target_feature]\n",
    "Xtest = test_rwrk[features_to_use]\n",
    "ytest = test_rwrk[target_feature]\n",
    "\n",
    "\n",
    "perform_recursive_feature_addition = True\n",
    "perform_recursive_feature_elimination = True\n",
    "perform_stepwise = True\n",
    "perform_exhaustive_features_selection = False\n",
    "perform_random_forest_regressor_selection = False\n"
   ]
  },
  {
   "cell_type": "code",
   "execution_count": 14,
   "metadata": {},
   "outputs": [
    {
     "data": {
      "text/plain": [
       "252"
      ]
     },
     "execution_count": 14,
     "metadata": {},
     "output_type": "execute_result"
    }
   ],
   "source": [
    "len(features_to_use[1:])"
   ]
  },
  {
   "cell_type": "markdown",
   "metadata": {},
   "source": [
    "## Recursive feature addition"
   ]
  },
  {
   "cell_type": "code",
   "execution_count": 15,
   "metadata": {},
   "outputs": [
    {
     "name": "stdout",
     "output_type": "stream",
     "text": [
      "253\n",
      "0.8846182178104103\n",
      "84\n"
     ]
    }
   ],
   "source": [
    "print(len(features_to_use))\n",
    "if(perform_recursive_feature_addition == True):\n",
    "    #model = Ridge(alpha=7)\n",
    "    model = LinearRegression()\n",
    "    RFA_features = ownLibrary.recursive_feature_addition(Xtrain, ytrain, Xtest, ytest, model)[0]"
   ]
  },
  {
   "cell_type": "code",
   "execution_count": 16,
   "metadata": {},
   "outputs": [
    {
     "name": "stdout",
     "output_type": "stream",
     "text": [
      "['MasVnrArea', 'BsmtFinSF1', 'BsmtUnfSF', 'TotalBsmtSF', '1stFlrSF', '2ndFlrSF', 'GarageArea', 'ScreenPorch', 'TotalSF', 'Total_sqr_footage', 'Total_Bathrooms', 'has2ndfloor', 'hasgarage', 'hasfireplace', 'MSSubClass_1', 'MSSubClass_2', 'MSSubClass_3', 'MSZoning_2', 'MSZoning_3', 'LotArea_2', 'LotArea_4', 'LotShape_1', 'LandContour_1', 'Neighborhood_1', 'Neighborhood_2', 'Neighborhood_3', 'Condition1_1', 'YearBuilt_2', 'YearBuilt_3', 'YearBuilt_4', 'YearRemodAdd_4', 'RoofStyle_1', 'Exterior1st_1', 'BsmtQual_3', 'BsmtCond_1', 'BsmtCond_2', 'BsmtExposure_1', 'BsmtExposure_3', 'BsmtFinType1_1', 'BsmtFinType2_2', 'BsmtFinType2_3', 'HeatingQC_1', 'HeatingQC_2', 'BsmtFullBath_1', 'BsmtHalfBath_1', 'HalfBath_1', 'BedroomAbvGr_4', 'TotRmsAbvGrd_4', 'Functional_1', 'Functional_2', 'GarageType_2', 'GarageQual_2', 'GarageCond_1', 'GarageCond_2', 'PavedDrive_1', 'WoodDeckSF_1', 'WoodDeckSF_3', 'OpenPorchSF_1', 'EnclosedPorch_1', 'EnclosedPorch_2', 'Fence_2', 'Fence_3', 'YrSold_2', 'YrSold_4', 'YrSold_5', 'YrBltAndRemod_1', 'YrBltAndRemod_2', 'YrBltAndRemod_3', 'NewFirePlaces_22', 'NewExterQualCond_11', 'NewExterQualCond_21', 'NewCentrAirElec_12', 'NewCentrAirElec_21', 'NewKitchen_11', 'NewKitchen_13', 'NewSale_11', 'NewSale_12', 'NewSale_13', '1stFlrSFGarageArea', 'PR3_9', 'PR3_11', 'PR3_13', 'PR3_21', 'PR3_30']\n"
     ]
    }
   ],
   "source": [
    "print(RFA_features)"
   ]
  },
  {
   "cell_type": "markdown",
   "metadata": {},
   "source": [
    "##  recursive_feature_elimination_rf"
   ]
  },
  {
   "cell_type": "code",
   "execution_count": 17,
   "metadata": {},
   "outputs": [
    {
     "data": {
      "text/plain": [
       "<module 'LibrairiePerso_v4_8' from 'C:\\\\Users\\\\Julie\\\\OneDrive\\\\DataScience\\\\capstoneV2\\\\LibrairiePerso_v4_8.py'>"
      ]
     },
     "execution_count": 17,
     "metadata": {},
     "output_type": "execute_result"
    }
   ],
   "source": [
    "import importlib\n",
    "importlib.reload(ownLibrary)"
   ]
  },
  {
   "cell_type": "code",
   "execution_count": 18,
   "metadata": {},
   "outputs": [
    {
     "name": "stdout",
     "output_type": "stream",
     "text": [
      "score : 0.9034803342183273\n",
      "total features to remove:  154\n",
      "total features to keep:  99\n"
     ]
    }
   ],
   "source": [
    "\n",
    "if(perform_recursive_feature_elimination == True):\n",
    "    #model = Ridge(alpha=7)\n",
    "    model = LinearRegression()\n",
    "    RFE_features = ownLibrary.recursive_feature_elimination_rf(Xtrain, ytrain, Xtest, ytest, model)[0]\n"
   ]
  },
  {
   "cell_type": "code",
   "execution_count": 46,
   "metadata": {},
   "outputs": [
    {
     "name": "stdout",
     "output_type": "stream",
     "text": [
      "['TotalBsmtSF', 'GrLivArea', 'GarageArea', 'ScreenPorch', 'Total_sqr_footage', 'haspool', 'has2ndfloor', 'MSSubClass_2', 'MSZoning_3', 'LotFrontage_2', 'LotFrontage_3', 'LotArea_2', 'LotArea_3', 'LotArea_4', 'LandContour_2', 'LotConfig_2', 'LotConfig_3', 'Neighborhood_2', 'Neighborhood_3', 'Condition1_2', 'Condition1_3', 'HouseStyle_2', 'OverallQual_2', 'OverallQual_3', 'OverallQual_4', 'OverallCond_2', 'OverallCond_3', 'YearRemodAdd_3', 'YearRemodAdd_4', 'Exterior1st_2', 'Foundation_2', 'BsmtQual_2', 'BsmtQual_3', 'BsmtExposure_2', 'BsmtFinType2_3', 'BsmtFinSF2_4', 'HeatingQC_2', 'BsmtFullBath_2', 'BsmtFullBath_3', 'FullBath_2', 'HalfBath_2', 'BedroomAbvGr_4', 'TotRmsAbvGrd_3', 'TotRmsAbvGrd_4', 'Functional_2', 'Functional_3', 'GarageYrBlt_3', 'GarageCars_2', 'GarageCars_3', 'GarageCars_4', 'GarageQual_2', 'GarageCond_1', 'GarageCond_3', 'PavedDrive_2', 'WoodDeckSF_4', 'OpenPorchSF_2', 'EnclosedPorch_2', 'MoSold_3', 'YrSold_4', 'YrBltAndRemod_2', 'YrBltAndRemod_4', 'NewFirePlaces_22', 'NewFirePlaces_23', 'NewFirePlaces_24', 'NewExterQualCond_21', 'NewExterQualCond_22', 'NewCentrAirElec_21', 'NewKitchen_12', 'NewKitchen_13', 'NewKitchen_22', 'NewSale_12', 'NewSale_13', '1stFlrSFGarageArea', 'GarageArea²', 'PR3_6', 'PR3_7', 'PR3_9', 'PR3_10', 'PR3_12', 'PR3_14', 'PR3_15', 'PR3_18', 'PR3_19', 'PR3_20', 'PR3_21', 'PR3_23', 'PR3_24', 'PR3_25', 'PR3_27', 'PR3_30', 'PR3_33', 'PR3_36', 'PR3_45', 'PR3_46', 'PR3_49', 'PR3_50', 'PR3_52', 'PR3_54', 'PR3_55']\n"
     ]
    }
   ],
   "source": [
    "\n",
    "print(RFE_features)\n"
   ]
  },
  {
   "cell_type": "markdown",
   "metadata": {},
   "source": [
    "## Stepwise function"
   ]
  },
  {
   "cell_type": "code",
   "execution_count": 103,
   "metadata": {},
   "outputs": [
    {
     "data": {
      "text/plain": [
       "<module 'LibrairiePerso_v4_8' from 'C:\\\\Users\\\\Julie\\\\OneDrive\\\\DataScience\\\\capstoneV2\\\\LibrairiePerso_v4_8.py'>"
      ]
     },
     "execution_count": 103,
     "metadata": {},
     "output_type": "execute_result"
    }
   ],
   "source": [
    "import importlib\n",
    "importlib.reload(ownLibrary)"
   ]
  },
  {
   "cell_type": "code",
   "execution_count": 104,
   "metadata": {
    "scrolled": false
   },
   "outputs": [
    {
     "name": "stdout",
     "output_type": "stream",
     "text": [
      "Add  PR3_17                         with p-value 6.89351e-216\n",
      "Add  Neighborhood_3                 with p-value 2.47606e-93\n",
      "Add  GarageArea                     with p-value 2.32606e-32\n",
      "Add  Total_Bathrooms                with p-value 1.38764e-23\n",
      "Add  MSSubClass_2                   with p-value 2.59708e-24\n",
      "Add  OverallCond_1                  with p-value 2.09842e-21\n",
      "Add  OverallQual_4                  with p-value 4.93556e-19\n",
      "Add  PR3_22                         with p-value 1.962e-12\n",
      "Add  Total_sqr_footage              with p-value 5.00851e-16\n",
      "Add  BsmtQual_1                     with p-value 7.01626e-15\n",
      "Add  YrBltAndRemod_1                with p-value 3.93474e-10\n",
      "Add  hasfireplace                   with p-value 9.92309e-11\n",
      "Add  NewFirePlaces_14               with p-value 0.0\n",
      "Add  OverallCond_3                  with p-value 8.16521e-09\n",
      "Add  OverallCond_2                  with p-value 0.0\n",
      "Add  Foundation_1                   with p-value 7.10415e-08\n",
      "Add  Foundation_2                   with p-value 0.0\n",
      "Add  MSZoning_2                     with p-value 1.2336e-07\n",
      "Add  MSZoning_3                     with p-value 0.0\n",
      "Add  NewSale_12                     with p-value 1.44256e-07\n",
      "Add  OverallQual_1                  with p-value 1.5786e-06\n",
      "Add  BsmtFinSF2_2                   with p-value 4.27919e-07\n",
      "Add  NewKitchen_11                  with p-value 3.02945e-06\n",
      "Add  Exterior1st_1                  with p-value 2.19735e-05\n",
      "Add  NewCentrAirElec_22             with p-value 7.61671e-05\n",
      "Add  BsmtExposure_1                 with p-value 1.92575e-05\n",
      "Add  OverallQual_2                  with p-value 0.000279562\n",
      "Add  OverallQual_3                  with p-value 0.0\n",
      "Add  Neighborhood_1                 with p-value 0.000292276\n",
      "Add  Neighborhood_2                 with p-value 0.0\n",
      "Add  TotalSF                        with p-value 0.000286535\n",
      "Add  PR3_24                         with p-value 4.57881e-05\n",
      "Drop PR3_17                         with p-value 0.158664\n",
      "Add  Condition1_2                   with p-value 0.000110471\n",
      "Add  LotArea_4                      with p-value 9.73741e-05\n",
      "Add  Functional_3                   with p-value 7.9712e-05\n",
      "Add  YearRemodAdd_2                 with p-value 0.000348562\n",
      "Add  YearBuilt_4                    with p-value 0.000969327\n",
      "Add  NewCentrAirElec_21             with p-value 0.00529725\n",
      "Add  haspool                        with p-value 0.00676095\n",
      "Add  MoSold_2                       with p-value 0.00977875\n",
      "Add  Exterior1st_2                  with p-value 0.00620604\n",
      "Add  Exterior1st_3                  with p-value 8.84771e-136\n",
      "resulting features:\n",
      "41 features selected\n"
     ]
    }
   ],
   "source": [
    "\n",
    "if (perform_stepwise == True):\n",
    "\n",
    "    Stepwise_features = ownLibrary.stepwise_selection(Xtrain, ytrain, verbose=True)\n",
    "\n",
    "    print('resulting features:')\n",
    "    print(str(len(Stepwise_features)) + ' features selected')\n"
   ]
  },
  {
   "cell_type": "code",
   "execution_count": 105,
   "metadata": {},
   "outputs": [
    {
     "name": "stdout",
     "output_type": "stream",
     "text": [
      "['Neighborhood_3', 'GarageArea', 'Total_Bathrooms', 'MSSubClass_2', 'OverallCond_1', 'OverallQual_4', 'PR3_22', 'Total_sqr_footage', 'BsmtQual_1', 'YrBltAndRemod_1', 'hasfireplace', 'NewFirePlaces_14', 'OverallCond_3', 'OverallCond_2', 'Foundation_1', 'Foundation_2', 'MSZoning_2', 'MSZoning_3', 'NewSale_12', 'OverallQual_1', 'BsmtFinSF2_2', 'NewKitchen_11', 'Exterior1st_1', 'NewCentrAirElec_22', 'BsmtExposure_1', 'OverallQual_2', 'OverallQual_3', 'Neighborhood_1', 'Neighborhood_2', 'TotalSF', 'PR3_24', 'Condition1_2', 'LotArea_4', 'Functional_3', 'YearRemodAdd_2', 'YearBuilt_4', 'NewCentrAirElec_21', 'haspool', 'MoSold_2', 'Exterior1st_2', 'Exterior1st_3']\n",
      "------------- Forêt aléatoire -------------\n",
      "\n",
      "Train : R² = 97.9% , rsquared = 98.1% , corr = 99.1% , MSE = 131442544.06\n",
      "Test : R² = 85.7% , rsqaured = 85.9% , corr = 92.7% , MSE = 918071450.89\n",
      "\n",
      "------------- Regression linéaire multivariée -------------\n",
      "\n",
      "Train : R² = 92.4% , rsquared = 92.5% , corr = 96.2% , MSE = 474399944.17\n",
      "Test : R² = 89.5% , rsqaured = 89.6% , corr = 94.6% , MSE = 674232642.97\n",
      "\n",
      "------------- Ridge Regression -------------\n",
      "\n",
      "Train : R² = 91.9% , rsquared = 92.1% , corr = 96.0% , MSE = 504977452.48\n",
      "Test : R² = 89.5% , rsqaured = 89.6% , corr = 94.7% , MSE = 673243292.00\n",
      "\n"
     ]
    },
    {
     "name": "stderr",
     "output_type": "stream",
     "text": [
      "d:\\python39\\lib\\site-packages\\sklearn\\linear_model\\_ridge.py:147: LinAlgWarning: Ill-conditioned matrix (rcond=4.92245e-21): result may not be accurate.\n",
      "  return linalg.solve(A, Xy, sym_pos=True,\n"
     ]
    }
   ],
   "source": [
    "\n",
    "print(Stepwise_features)\n",
    "\n",
    "models_features_selection = {\n",
    "    'fa' : {\n",
    "        'label' : 'Forêt aléatoire',\n",
    "        #'function' : RandomForestRegressor(n_estimators=7, max_depth=11, min_samples_split=3, min_samples_leaf=1, random_state=0, n_jobs=-1)\n",
    "        'function' : RandomForestRegressor(n_estimators=35, max_depth=11, min_samples_split=3, min_samples_leaf=1, random_state=0, n_jobs=-1)\n",
    "    },\n",
    "    'mrl' : {\n",
    "        'label' : 'Regression linéaire multivariée',\n",
    "        'function' : LinearRegression()\n",
    "    },\n",
    "    'rr' : {\n",
    "        'label' : 'Ridge Regression',\n",
    "        'function' : Ridge(alpha=9)\n",
    "    }\n",
    "}\n",
    "for model in models_features_selection :\n",
    "    models_features_selection[model]['function'].fit(Xtrain[Stepwise_features], ytrain)\n",
    "predictions_train = ownLibrary.runModels1DS(train_rwrk, 'train', Stepwise_features, 'SalePrice_log', models_features_selection)\n",
    "predictions_test = ownLibrary.runModels1DS(test_rwrk, 'test', Stepwise_features, 'SalePrice_log', models_features_selection)\n",
    "\n",
    "ownLibrary.afficheResults(predictions_train, predictions_test, 'SalePrice', models_features_selection)\n"
   ]
  },
  {
   "cell_type": "markdown",
   "metadata": {},
   "source": [
    "## Random Forest Regressor Selector"
   ]
  },
  {
   "cell_type": "code",
   "execution_count": 22,
   "metadata": {},
   "outputs": [],
   "source": [
    "if (perform_random_forest_regressor_selection == True):\n",
    "    RFR_features = ownLibrary.RFR_select_features(Xtrain, ytrain)"
   ]
  },
  {
   "cell_type": "markdown",
   "metadata": {},
   "source": [
    "## Exhaustive Feature Selector"
   ]
  },
  {
   "cell_type": "code",
   "execution_count": 23,
   "metadata": {},
   "outputs": [],
   "source": [
    "if (perform_exhaustive_features_selection == True):\n",
    "    EFX_features = ownLibrary.ExhaustiveFeatureSelector(train_rwrk[modelisation_feature], train_rwrk[target_feature], min_features=1 , max_features=5)[0]\n"
   ]
  },
  {
   "cell_type": "code",
   "execution_count": 24,
   "metadata": {},
   "outputs": [
    {
     "name": "stdout",
     "output_type": "stream",
     "text": [
      "84\n"
     ]
    },
    {
     "data": {
      "text/plain": [
       "'\\nif(RFE_features):\\n    print(len(RFE_features))\\nif(EFX_features):\\n    print(len(EFX_features))\\nif(RFR_features):\\n    print(len(RFR_features))\\n\\nif(Stepwise_features):\\n    print(len(Stepwise_features))\\n'"
      ]
     },
     "execution_count": 24,
     "metadata": {},
     "output_type": "execute_result"
    }
   ],
   "source": [
    "if(RFA_features):\n",
    "    print(len(RFA_features))\n",
    "'''\n",
    "if(RFE_features):\n",
    "    print(len(RFE_features))\n",
    "if(EFX_features):\n",
    "    print(len(EFX_features))\n",
    "if(RFR_features):\n",
    "    print(len(RFR_features))\n",
    "\n",
    "if(Stepwise_features):\n",
    "    print(len(Stepwise_features))\n",
    "'''"
   ]
  },
  {
   "cell_type": "markdown",
   "metadata": {},
   "source": [
    "## Features selected behavior study"
   ]
  },
  {
   "cell_type": "code",
   "execution_count": 25,
   "metadata": {
    "scrolled": true
   },
   "outputs": [
    {
     "data": {
      "text/plain": [
       "'\\nmodel = LinearRegression()\\nownLibrary.feature_behavior_observation(train_rwrk[Stepwise_features],ytrain,test_rwrk[Stepwise_features], ytest, model)\\n'"
      ]
     },
     "execution_count": 25,
     "metadata": {},
     "output_type": "execute_result"
    }
   ],
   "source": [
    "'''\n",
    "model = LinearRegression()\n",
    "ownLibrary.feature_behavior_observation(train_rwrk[Stepwise_features],ytrain,test_rwrk[Stepwise_features], ytest, model)\n",
    "'''"
   ]
  },
  {
   "cell_type": "markdown",
   "metadata": {},
   "source": [
    "# Correlation"
   ]
  },
  {
   "cell_type": "code",
   "execution_count": 26,
   "metadata": {},
   "outputs": [
    {
     "data": {
      "text/plain": [
       "'\\nmatrice_corr = pd.concat([train_rwrk[Stepwise_features],train_rwrk[\\'SalePrice_log\\']], axis=1, sort=True)\\nplt.matshow(matrice_corr.corr())\\nplt.show()\\n\\n#matrice_corr.corr().to_excel (path + \"corr.xlsx\", index = False, header=True)\\n'"
      ]
     },
     "execution_count": 26,
     "metadata": {},
     "output_type": "execute_result"
    }
   ],
   "source": [
    "'''\n",
    "matrice_corr = pd.concat([train_rwrk[Stepwise_features],train_rwrk['SalePrice_log']], axis=1, sort=True)\n",
    "plt.matshow(matrice_corr.corr())\n",
    "plt.show()\n",
    "\n",
    "#matrice_corr.corr().to_excel (path + \"corr.xlsx\", index = False, header=True)\n",
    "'''"
   ]
  },
  {
   "cell_type": "markdown",
   "metadata": {},
   "source": [
    "# Modeling"
   ]
  },
  {
   "cell_type": "code",
   "execution_count": 27,
   "metadata": {},
   "outputs": [],
   "source": [
    "y = 'SalePrice_log'"
   ]
  },
  {
   "cell_type": "code",
   "execution_count": 28,
   "metadata": {},
   "outputs": [
    {
     "data": {
      "text/plain": [
       "\"\\n'dtc' : {\\n'label' : 'Arbre de décision - Classifier',\\n'function' : DecisionTreeClassifier(max_depth=6)\\n},\\n\""
      ]
     },
     "execution_count": 28,
     "metadata": {},
     "output_type": "execute_result"
    }
   ],
   "source": [
    "    models = {\n",
    "        'fa' : {\n",
    "            'label' : 'Forêt aléatoire',\n",
    "            #'function' : RandomForestRegressor(n_estimators=7, max_depth=11, min_samples_split=3, min_samples_leaf=1, random_state=0, n_jobs=-1)\n",
    "            'function' : RandomForestRegressor(n_estimators=35, max_depth=11, min_samples_split=3, min_samples_leaf=1, random_state=0, n_jobs=-1)\n",
    "        },\n",
    "        'knn' : {\n",
    "            'label' : 'KNN',\n",
    "            'function' : KNeighborsRegressor(n_neighbors=9, algorithm = \"auto\")\n",
    "        },\n",
    "        'dtr' : {\n",
    "            'label' : 'Arbre de décision - Regressor',\n",
    "            'function' : DecisionTreeRegressor(min_samples_leaf = 2, min_samples_split = 3, max_depth =45)\n",
    "        },\n",
    "        'mrl' : {\n",
    "            'label' : 'Regression linéaire multivariée',\n",
    "            'function' : LinearRegression()\n",
    "        },\n",
    "        'rr' : {\n",
    "            'label' : 'Ridge Regression',\n",
    "            'function' : Ridge(alpha=7)\n",
    "        }\n",
    "    }\n",
    "    \n",
    "    \n",
    "'''\n",
    "'rn' : {\n",
    "    'label' : 'Réseaux de neurones',\n",
    "    'function' : MLPClassifier(hidden_layer_sizes=(5, 15), random_state=0, max_iter = 500, solver = 'adam', alpha= 0.05),\n",
    "},\n",
    "'''\n",
    "'''\n",
    "'dtc' : {\n",
    "    'label' : 'Arbre de décision - Classifier',\n",
    "    'function' : DecisionTreeClassifier(max_depth=6)\n",
    "},\n",
    "'''"
   ]
  },
  {
   "cell_type": "markdown",
   "metadata": {},
   "source": [
    "## Run modeling"
   ]
  },
  {
   "cell_type": "code",
   "execution_count": 29,
   "metadata": {},
   "outputs": [
    {
     "name": "stdout",
     "output_type": "stream",
     "text": [
      "84\n"
     ]
    }
   ],
   "source": [
    "modelisation_feature = RFA_features\n",
    "print(len(modelisation_feature))"
   ]
  },
  {
   "cell_type": "code",
   "execution_count": 30,
   "metadata": {},
   "outputs": [
    {
     "name": "stderr",
     "output_type": "stream",
     "text": [
      "d:\\python39\\lib\\site-packages\\sklearn\\linear_model\\_ridge.py:147: LinAlgWarning: Ill-conditioned matrix (rcond=1.56168e-22): result may not be accurate.\n",
      "  return linalg.solve(A, Xy, sym_pos=True,\n"
     ]
    },
    {
     "name": "stdout",
     "output_type": "stream",
     "text": [
      "------------- Forêt aléatoire -------------\n",
      "\n",
      "Train : R² = 97.7% , rsquared = 98.0% , corr = 99.0% , MSE = 143611364.94\n",
      "Test : R² = 83.4% , rsqaured = 83.9% , corr = 91.6% , MSE = 1069388320.67\n",
      "\n",
      "------------- KNN -------------\n",
      "\n",
      "Train : R² = 58.9% , rsquared = 59.6% , corr = 77.2% , MSE = 2569242734.78\n",
      "Test : R² = 54.3% , rsqaured = 55.5% , corr = 74.5% , MSE = 2940702282.30\n",
      "\n",
      "------------- Arbre de décision - Regressor -------------\n",
      "\n",
      "Train : R² = 98.7% , rsquared = 98.7% , corr = 99.4% , MSE = 80348525.92\n",
      "Test : R² = 71.7% , rsqaured = 74.7% , corr = 86.4% , MSE = 1819584286.76\n",
      "\n",
      "------------- Regression linéaire multivariée -------------\n",
      "\n",
      "Train : R² = 91.2% , rsquared = 91.3% , corr = 95.5% , MSE = 550872402.23\n",
      "Test : R² = 90.7% , rsqaured = 90.7% , corr = 95.3% , MSE = 599268352.64\n",
      "\n",
      "------------- Ridge Regression -------------\n",
      "\n",
      "Train : R² = 91.0% , rsquared = 91.1% , corr = 95.4% , MSE = 564643138.28\n",
      "Test : R² = 90.0% , rsqaured = 90.1% , corr = 94.9% , MSE = 643728813.25\n",
      "\n"
     ]
    }
   ],
   "source": [
    "# Les deux méthodes font la même chose\n",
    "\n",
    "# -------------------- fit model + Train et test en deux fois + affichage résultats -----------------\n",
    "\n",
    "for model in models :\n",
    "    models[model]['function'].fit(train_rwrk[modelisation_feature], train_rwrk[y])\n",
    "predictions_train = ownLibrary.runModels1DS(train_rwrk, 'train', modelisation_feature, y, models)\n",
    "predictions_test = ownLibrary.runModels1DS(test_rwrk, 'test', modelisation_feature, y, models)\n",
    "\n",
    "ownLibrary.afficheResults(predictions_train, predictions_test, 'SalePrice', models)\n"
   ]
  },
  {
   "cell_type": "code",
   "execution_count": 31,
   "metadata": {},
   "outputs": [
    {
     "data": {
      "text/plain": [
       "'SalePrice_log'"
      ]
     },
     "execution_count": 31,
     "metadata": {},
     "output_type": "execute_result"
    }
   ],
   "source": [
    "Features915 = ['MasVnrArea', 'BsmtFinSF1', 'BsmtUnfSF', 'TotalBsmtSF', '1stFlrSF', '2ndFlrSF', 'GarageArea', 'ScreenPorch', 'TotalSF', 'Total_Bathrooms', 'hasgarage', 'hasfireplace', 'MSSubClass_1', 'MSSubClass_2', 'MSSubClass_3', 'MSZoning_2', 'LotFrontage_1', 'LotArea_2', 'Alley_1', 'LotShape_1', 'LandContour_1', 'LandSlope_1', 'Neighborhood_1', 'Neighborhood_2', 'Condition1_1', 'BldgType_2', 'BldgType_3', 'OverallQual_1', 'OverallQual_2', 'OverallQual_3', 'OverallCond_1', 'OverallCond_2', 'YearBuilt_2', 'YearBuilt_3', 'YearBuilt_4', 'YearRemodAdd_1', 'YearRemodAdd_4', 'RoofStyle_1', 'MasVnrType_1', 'Foundation_1', 'BsmtCond_1', 'BsmtCond_2', 'BsmtExposure_1', 'BsmtFinType2_2', 'BsmtFinType2_3', 'HeatingQC_1', 'HalfBath_1', 'BedroomAbvGr_3', 'BedroomAbvGr_4', 'TotRmsAbvGrd_3', 'TotRmsAbvGrd_4', 'Functional_1', 'Functional_2', 'GarageYrBlt_2', 'GarageCars_4', 'GarageCond_3', 'GarageCond_4', 'PavedDrive_1', 'WoodDeckSF_1', 'WoodDeckSF_3', 'EnclosedPorch_2', 'Fence_3', 'YrSold_1', 'YrSold_2', 'YrSold_4', 'YrBltAndRemod_1', 'YrBltAndRemod_4', 'NewExterQualCond_11', 'NewExterQualCond_21', 'NewCentrAirElec_11', 'NewCentrAirElec_12', 'NewKitchen_11', 'NewSale_11', 'NewSale_12', 'NewSale_13', '1stFlrSFGarageArea', 'PR3_9', 'PR3_11', 'PR3_21', 'PR3_24', 'PR3_31']\n",
    "modelisation_feature = Features915\n",
    "y"
   ]
  },
  {
   "cell_type": "code",
   "execution_count": 33,
   "metadata": {
    "scrolled": false
   },
   "outputs": [
    {
     "name": "stderr",
     "output_type": "stream",
     "text": [
      "d:\\python39\\lib\\site-packages\\sklearn\\linear_model\\_ridge.py:147: LinAlgWarning: Ill-conditioned matrix (rcond=1.75069e-22): result may not be accurate.\n",
      "  return linalg.solve(A, Xy, sym_pos=True,\n"
     ]
    },
    {
     "name": "stdout",
     "output_type": "stream",
     "text": [
      "------------- Forêt aléatoire -------------\n",
      "\n",
      "Train : R² = 97.3% , rsquared = 97.7% , corr = 98.8% , MSE = 170281849.94\n",
      "Test : R² = 85.4% , rsqaured = 86.2% , corr = 92.8% , MSE = 940416837.98\n",
      "\n",
      "------------- KNN -------------\n",
      "\n",
      "Train : R² = 59.8% , rsquared = 61.2% , corr = 78.2% , MSE = 2514527743.34\n",
      "Test : R² = 55.1% , rsqaured = 56.2% , corr = 75.0% , MSE = 2892940123.27\n",
      "\n",
      "------------- Arbre de décision - Regressor -------------\n",
      "\n",
      "Train : R² = 98.3% , rsquared = 98.3% , corr = 99.1% , MSE = 109215268.32\n",
      "Test : R² = 79.0% , rsqaured = 79.4% , corr = 89.1% , MSE = 1354806211.53\n",
      "\n",
      "------------- Regression linéaire multivariée -------------\n",
      "\n",
      "Train : R² = 91.4% , rsquared = 91.5% , corr = 95.6% , MSE = 536897588.01\n",
      "Test : R² = 91.5% , rsqaured = 91.7% , corr = 95.7% , MSE = 544420003.48\n",
      "\n",
      "------------- Ridge Regression -------------\n",
      "\n",
      "Train : R² = 91.3% , rsquared = 91.4% , corr = 95.6% , MSE = 546542594.49\n",
      "Test : R² = 91.4% , rsqaured = 91.5% , corr = 95.7% , MSE = 556500011.22\n",
      "\n"
     ]
    }
   ],
   "source": [
    "for model in models :\n",
    "    models[model]['function'].fit(train_rwrk[modelisation_feature], train_rwrk[y])\n",
    "predictions_train = ownLibrary.runModels1DS(train_rwrk, 'train', modelisation_feature, y, models)\n",
    "predictions_test = ownLibrary.runModels1DS(test_rwrk, 'test', modelisation_feature, y, models)\n",
    "\n",
    "ownLibrary.afficheResults(predictions_train, predictions_test, 'SalePrice', models)"
   ]
  },
  {
   "cell_type": "markdown",
   "metadata": {},
   "source": [
    "# Export the model"
   ]
  },
  {
   "cell_type": "code",
   "execution_count": 36,
   "metadata": {},
   "outputs": [],
   "source": [
    "models = {\n",
    "    'mrl' : {\n",
    "        'label' : 'Regression linéaire multivariée',\n",
    "        'function' : LinearRegression()\n",
    "    }\n",
    "}"
   ]
  },
  {
   "cell_type": "code",
   "execution_count": 43,
   "metadata": {},
   "outputs": [],
   "source": [
    "model_deploy = LinearRegression()\n",
    "model_deploy.fit(train_rwrk[modelisation_feature], train_rwrk[y])\n",
    "preds = pd.DataFrame()\n",
    "preds = copy.deepcopy(train_rwrk)\n",
    "preds = preds.loc[:, ['Id', 'SalePrice', y]]\n",
    "#preds = preds.drop(preds.columns.difference(['Id',y]), 1, inplace=True)\n",
    "pred = model_deploy.predict(train_rwrk[modelisation_feature])\n",
    "preds['temp_lr'] = np.exp(pred.astype(float))\n",
    "preds['pred_lr'] = preds['temp_lr'].clip(lower=0)\n",
    "preds.drop(['temp_lr'], axis=1, inplace=True)"
   ]
  },
  {
   "cell_type": "code",
   "execution_count": 45,
   "metadata": {},
   "outputs": [
    {
     "data": {
      "text/plain": [
       "['C:\\\\Users\\\\Julie\\\\OneDrive\\\\DataScience\\\\capstoneV2\\\\data\\\\testsavemodel.joblib']"
      ]
     },
     "execution_count": 45,
     "metadata": {},
     "output_type": "execute_result"
    }
   ],
   "source": [
    "from joblib import dump, load\n",
    "dump(model_deploy, cwd + \"\\\\data\\\\testsavemodel.joblib\") \n"
   ]
  },
  {
   "cell_type": "code",
   "execution_count": 44,
   "metadata": {},
   "outputs": [
    {
     "data": {
      "text/html": [
       "<div>\n",
       "<style scoped>\n",
       "    .dataframe tbody tr th:only-of-type {\n",
       "        vertical-align: middle;\n",
       "    }\n",
       "\n",
       "    .dataframe tbody tr th {\n",
       "        vertical-align: top;\n",
       "    }\n",
       "\n",
       "    .dataframe thead th {\n",
       "        text-align: right;\n",
       "    }\n",
       "</style>\n",
       "<table border=\"1\" class=\"dataframe\">\n",
       "  <thead>\n",
       "    <tr style=\"text-align: right;\">\n",
       "      <th></th>\n",
       "      <th>Id</th>\n",
       "      <th>SalePrice</th>\n",
       "      <th>SalePrice_log</th>\n",
       "      <th>pred_lr</th>\n",
       "    </tr>\n",
       "  </thead>\n",
       "  <tbody>\n",
       "    <tr>\n",
       "      <th>0</th>\n",
       "      <td>211</td>\n",
       "      <td>98000</td>\n",
       "      <td>11.492723</td>\n",
       "      <td>97507.352231</td>\n",
       "    </tr>\n",
       "    <tr>\n",
       "      <th>1</th>\n",
       "      <td>319</td>\n",
       "      <td>260000</td>\n",
       "      <td>12.468437</td>\n",
       "      <td>341504.060411</td>\n",
       "    </tr>\n",
       "    <tr>\n",
       "      <th>2</th>\n",
       "      <td>240</td>\n",
       "      <td>113000</td>\n",
       "      <td>11.635143</td>\n",
       "      <td>118649.463726</td>\n",
       "    </tr>\n",
       "    <tr>\n",
       "      <th>3</th>\n",
       "      <td>987</td>\n",
       "      <td>117000</td>\n",
       "      <td>11.669929</td>\n",
       "      <td>123357.375361</td>\n",
       "    </tr>\n",
       "    <tr>\n",
       "      <th>4</th>\n",
       "      <td>1417</td>\n",
       "      <td>122500</td>\n",
       "      <td>11.715866</td>\n",
       "      <td>140705.940580</td>\n",
       "    </tr>\n",
       "    <tr>\n",
       "      <th>...</th>\n",
       "      <td>...</td>\n",
       "      <td>...</td>\n",
       "      <td>...</td>\n",
       "      <td>...</td>\n",
       "    </tr>\n",
       "    <tr>\n",
       "      <th>1017</th>\n",
       "      <td>803</td>\n",
       "      <td>189000</td>\n",
       "      <td>12.149502</td>\n",
       "      <td>192893.966672</td>\n",
       "    </tr>\n",
       "    <tr>\n",
       "      <th>1018</th>\n",
       "      <td>54</td>\n",
       "      <td>385000</td>\n",
       "      <td>12.860999</td>\n",
       "      <td>319856.106138</td>\n",
       "    </tr>\n",
       "    <tr>\n",
       "      <th>1019</th>\n",
       "      <td>351</td>\n",
       "      <td>318061</td>\n",
       "      <td>12.669998</td>\n",
       "      <td>308301.149389</td>\n",
       "    </tr>\n",
       "    <tr>\n",
       "      <th>1020</th>\n",
       "      <td>80</td>\n",
       "      <td>110000</td>\n",
       "      <td>11.608236</td>\n",
       "      <td>115742.102580</td>\n",
       "    </tr>\n",
       "    <tr>\n",
       "      <th>1021</th>\n",
       "      <td>793</td>\n",
       "      <td>269790</td>\n",
       "      <td>12.505399</td>\n",
       "      <td>254464.131206</td>\n",
       "    </tr>\n",
       "  </tbody>\n",
       "</table>\n",
       "<p>1022 rows × 4 columns</p>\n",
       "</div>"
      ],
      "text/plain": [
       "        Id  SalePrice  SalePrice_log        pred_lr\n",
       "0      211      98000      11.492723   97507.352231\n",
       "1      319     260000      12.468437  341504.060411\n",
       "2      240     113000      11.635143  118649.463726\n",
       "3      987     117000      11.669929  123357.375361\n",
       "4     1417     122500      11.715866  140705.940580\n",
       "...    ...        ...            ...            ...\n",
       "1017   803     189000      12.149502  192893.966672\n",
       "1018    54     385000      12.860999  319856.106138\n",
       "1019   351     318061      12.669998  308301.149389\n",
       "1020    80     110000      11.608236  115742.102580\n",
       "1021   793     269790      12.505399  254464.131206\n",
       "\n",
       "[1022 rows x 4 columns]"
      ]
     },
     "execution_count": 44,
     "metadata": {},
     "output_type": "execute_result"
    }
   ],
   "source": [
    "preds"
   ]
  }
 ],
 "metadata": {
  "kernelspec": {
   "display_name": "Python 3",
   "language": "python",
   "name": "python3"
  },
  "language_info": {
   "codemirror_mode": {
    "name": "ipython",
    "version": 3
   },
   "file_extension": ".py",
   "mimetype": "text/x-python",
   "name": "python",
   "nbconvert_exporter": "python",
   "pygments_lexer": "ipython3",
   "version": "3.9.4"
  }
 },
 "nbformat": 4,
 "nbformat_minor": 4
}
