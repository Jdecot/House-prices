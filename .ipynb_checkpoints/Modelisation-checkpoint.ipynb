{
 "cells": [
  {
   "cell_type": "code",
   "execution_count": 11,
   "metadata": {
    "scrolled": false
   },
   "outputs": [],
   "source": [
    "import os\n",
    "import numpy as np # linear algebra\n",
    "import pandas as pd \n",
    "import matplotlib.pyplot as plt\n",
    "import seaborn as sns \n",
    "import statsmodels.api as sm\n",
    "\n",
    "import copy\n",
    "from statsmodels.formula.api import ols\n",
    "from collections import Counter, defaultdict\n",
    "from sklearn.model_selection import train_test_split\n",
    "import LibrairiePerso_v4_7 as ownLibrary\n",
    "\n",
    "import sys\n",
    "sys.path.append(\"c:\\python38\\lib\\site-packages\")\n",
    "\n",
    "#import importlib\n",
    "#importlib.reload(ownLibrary)\n",
    "\n",
    "pd.set_option('display.max_columns', 500)"
   ]
  },
  {
   "cell_type": "code",
   "execution_count": 12,
   "metadata": {},
   "outputs": [],
   "source": [
    "path ='C:/Users/Julie/Documents/Big_Data/github/'\n",
    "\n",
    "\n",
    "X_train = pd.read_csv(path + \"Initial_train_rwrk.csv\", sep=\",\")\n",
    "y_train=X_train['SalePrice']\n",
    "\n",
    "X_test = pd.read_csv(path + \"Initial_test_rwrk.csv\", sep=\",\")\n",
    "y_test=X_test['SalePrice']\n",
    "\n",
    "submission = pd.read_csv(path + \"Initial_submission_rwrk.csv\", sep=\",\")\n",
    "\n",
    "\n",
    "for df in [X_train, X_test]:\n",
    "    df.drop(['SalePrice'], axis=1, inplace=True)\n"
   ]
  },
  {
   "cell_type": "markdown",
   "metadata": {},
   "source": [
    "## Define features transformation based on Best transformation finder"
   ]
  },
  {
   "cell_type": "code",
   "execution_count": 37,
   "metadata": {},
   "outputs": [],
   "source": [
    "base_features = ['Id', 'MiscVal', 'SalePrice', 'SalePrice_log']\n",
    "categorical_features_created = ['haspool','has2ndfloor','hasgarage','hasbsmt','hasfireplace']\n",
    "\n",
    "scaleMethod0 = continuous_features_created + ['LotFrontage','LotArea','YearBuilt','YearRemodAdd','MasVnrArea','BsmtFinSF1','BsmtFinSF2','BsmtUnfSF','TotalBsmtSF','1stFlrSF','2ndFlrSF','GrLivArea','GarageYrBlt','GarageArea','WoodDeckSF','OpenPorchSF','EnclosedPorch','ScreenPorch']\n",
    "scaleMethod1 = []\n",
    "scaleMethod3 = []\n",
    "\n",
    "no_modification = ['MasVnrArea','ScreenPorch','TotalSF','Total_sqr_footage','Total_Bathrooms','Total_porch_sf']\n",
    "dtr_best_performance = ['YrBltAndRemod','LotFrontage','LotArea','YearBuilt','YearRemodAdd','BsmtFinSF2','GarageYrBlt','WoodDeckSF','OpenPorchSF','EnclosedPorch']\n",
    "pr2_best_performance = ['1stFlrSF','GarageArea']\n",
    "pr3_best_performance = ['BsmtFinSF1','BsmtUnfSF','TotalBsmtSF','2ndFlrSF','GrLivArea']\n",
    "\n",
    "\n",
    "ignore = base_features + pr2_best_performance + pr3_best_performance + no_modification + categorical_features_created"
   ]
  },
  {
   "cell_type": "markdown",
   "metadata": {},
   "source": [
    "## Scale features"
   ]
  },
  {
   "cell_type": "code",
   "execution_count": 18,
   "metadata": {},
   "outputs": [],
   "source": [
    "if (scaleMethod1 !=[]): \n",
    "    X_train = ownLibrary.scale_features(X_train, scaleMethod1, 1)\n",
    "    X_test = ownLibrary.scale_features(X_test, scaleMethod1, 1)\n",
    "    submission = ownLibrary.scale_features(submission, scaleMethod1, 1)"
   ]
  },
  {
   "cell_type": "code",
   "execution_count": 19,
   "metadata": {},
   "outputs": [],
   "source": [
    "if (scaleMethod3 !=[]): \n",
    "    X_train = ownLibrary.scale_features(X_train, scaleMethod3, 3)\n",
    "    X_test = ownLibrary.scale_features(X_test, scaleMethod3, 3)\n",
    "    submission = ownLibrary.scale_features(submission, scaleMethod3, 3)"
   ]
  },
  {
   "cell_type": "markdown",
   "metadata": {},
   "source": [
    "## Transformations"
   ]
  },
  {
   "cell_type": "code",
   "execution_count": 20,
   "metadata": {},
   "outputs": [
    {
     "name": "stdout",
     "output_type": "stream",
     "text": [
      "'YrBltAndRemod': {\n",
      "\t1: [0,3917],\n",
      "\t2: [3918,3966],\n",
      "\t3: [3967,4010],\n",
      "\t4: [4011,8040]\n",
      "},\n",
      "'LotFrontage': {\n",
      "\t1: [0,60.0],\n",
      "\t2: [61.0,74.0],\n",
      "\t3: [75.0,90.0],\n",
      "\t4: [91.0,220.0]\n",
      "},\n",
      "'LotArea': {\n",
      "\t1: [0,8635],\n",
      "\t2: [8640,10970],\n",
      "\t3: [10991,13680],\n",
      "\t4: [13682,430490]\n",
      "},\n",
      "'YearBuilt': {\n",
      "\t1: [0,1956],\n",
      "\t2: [1957,1984],\n",
      "\t3: [1985,2005],\n",
      "\t4: [2006,4020]\n",
      "},\n",
      "'YearRemodAdd': {\n",
      "\t1: [0,1956],\n",
      "\t2: [1957,1983],\n",
      "\t3: [1984,2007],\n",
      "\t4: [2008,4020]\n",
      "},\n",
      "'BsmtFinSF2': {\n",
      "\t1: [0,80],\n",
      "\t2: [81,1029],\n",
      "\t3: [1031,1057],\n",
      "\t4: [1063,2948]\n",
      "},\n",
      "'GarageYrBlt': {\n",
      "\t1: [0,1958.0],\n",
      "\t2: [1959.0,1987.0],\n",
      "\t3: [1988.0,2005.0],\n",
      "\t4: [2006.0,4020.0]\n",
      "},\n",
      "'WoodDeckSF': {\n",
      "\t1: [0,84],\n",
      "\t2: [85,96],\n",
      "\t3: [97,158],\n",
      "\t4: [159,1714]\n",
      "},\n",
      "'OpenPorchSF': {\n",
      "\t1: [0,8],\n",
      "\t2: [10,29],\n",
      "\t3: [30,43],\n",
      "\t4: [44,1046]\n",
      "},\n",
      "'EnclosedPorch': {\n",
      "\t1: [0,36],\n",
      "\t2: [37,42],\n",
      "\t3: [48,140],\n",
      "\t4: [143,1104]\n",
      "},\n"
     ]
    },
    {
     "data": {
      "text/html": [
       "<div>\n",
       "<style scoped>\n",
       "    .dataframe tbody tr th:only-of-type {\n",
       "        vertical-align: middle;\n",
       "    }\n",
       "\n",
       "    .dataframe tbody tr th {\n",
       "        vertical-align: top;\n",
       "    }\n",
       "\n",
       "    .dataframe thead th {\n",
       "        text-align: right;\n",
       "    }\n",
       "</style>\n",
       "<table border=\"1\" class=\"dataframe\">\n",
       "  <thead>\n",
       "    <tr style=\"text-align: right;\">\n",
       "      <th></th>\n",
       "      <th>DTR0_R²</th>\n",
       "    </tr>\n",
       "  </thead>\n",
       "  <tbody>\n",
       "    <tr>\n",
       "      <th>YrBltAndRemod</th>\n",
       "      <td>35.47</td>\n",
       "    </tr>\n",
       "    <tr>\n",
       "      <th>LotFrontage</th>\n",
       "      <td>14.72</td>\n",
       "    </tr>\n",
       "    <tr>\n",
       "      <th>LotArea</th>\n",
       "      <td>20.20</td>\n",
       "    </tr>\n",
       "    <tr>\n",
       "      <th>YearBuilt</th>\n",
       "      <td>36.31</td>\n",
       "    </tr>\n",
       "    <tr>\n",
       "      <th>YearRemodAdd</th>\n",
       "      <td>29.07</td>\n",
       "    </tr>\n",
       "    <tr>\n",
       "      <th>BsmtFinSF2</th>\n",
       "      <td>0.78</td>\n",
       "    </tr>\n",
       "    <tr>\n",
       "      <th>GarageYrBlt</th>\n",
       "      <td>34.53</td>\n",
       "    </tr>\n",
       "    <tr>\n",
       "      <th>WoodDeckSF</th>\n",
       "      <td>8.28</td>\n",
       "    </tr>\n",
       "    <tr>\n",
       "      <th>OpenPorchSF</th>\n",
       "      <td>21.29</td>\n",
       "    </tr>\n",
       "    <tr>\n",
       "      <th>EnclosedPorch</th>\n",
       "      <td>2.29</td>\n",
       "    </tr>\n",
       "  </tbody>\n",
       "</table>\n",
       "</div>"
      ],
      "text/plain": [
       "               DTR0_R²\n",
       "YrBltAndRemod    35.47\n",
       "LotFrontage      14.72\n",
       "LotArea          20.20\n",
       "YearBuilt        36.31\n",
       "YearRemodAdd     29.07\n",
       "BsmtFinSF2        0.78\n",
       "GarageYrBlt      34.53\n",
       "WoodDeckSF        8.28\n",
       "OpenPorchSF      21.29\n",
       "EnclosedPorch     2.29"
      ]
     },
     "execution_count": 20,
     "metadata": {},
     "output_type": "execute_result"
    }
   ],
   "source": [
    "ownLibrary.discretisationSupervise(X_train[dtr_best_performance], X_test[dtr_best_performance], y_train, y_test, False, True, 0)"
   ]
  },
  {
   "cell_type": "markdown",
   "metadata": {},
   "source": [
    "## Categorical replacements"
   ]
  },
  {
   "cell_type": "code",
   "execution_count": 21,
   "metadata": {},
   "outputs": [],
   "source": [
    "ListeDesReglesQuali = { \n",
    "\n",
    "    'HeatingQC': {\n",
    "        1: [\"Ex\"],\n",
    "        2: [\"Gd\",\"TA\"],\n",
    "        3: [\"Fa\",\"Po\"]\n",
    "    },\n",
    "    'CentralAir': {\n",
    "        1: [\"Y\"],\n",
    "        2: [\"N\"]\n",
    "    },\n",
    "    'Electrical': {\n",
    "        1: [\"SBrkr\"],\n",
    "        2: [\"FuseA\",\"FuseF\",\"FuseP\"],\n",
    "        3: [\"Mix\",\"eNA\"] \n",
    "    },\n",
    "    'BsmtFullBath': {\n",
    "        1: [\"0\"],\n",
    "        2: [\"1\"],\n",
    "        3: [\"2\",\"3\"]\n",
    "    },\n",
    "    'BsmtHalfBath': {\n",
    "        1: [\"0\"],\n",
    "        2: [\"1\",\"2\"]\n",
    "    },\n",
    "    'FullBath': {\n",
    "        1: [\"0\",\"1\"],\n",
    "        2: [\"2\",\"3\",\"4\"]\n",
    "    },\n",
    "    'HalfBath': {\n",
    "        1: [\"0\"],\n",
    "        2: [\"1\"],\n",
    "        3: [\"2\"]\n",
    "    },\n",
    "    'BedroomAbvGr': {\n",
    "        1: [\"0\",\"1\",\"2\"],\n",
    "        2: [\"3\"],\n",
    "        3: [\"4\"],\n",
    "        4: [\"5\",\"6\",\"7\",\"8\"]\n",
    "    },\n",
    "    'KitchenAbvGr': {\n",
    "        1: [\"0\",\"1\"],\n",
    "        2: [\"2\",\"3\"]\n",
    "    },\n",
    "    'KitchenQual': {\n",
    "        1: [\"Ex\"],\n",
    "        2: [\"Fa\",\"Po\",\"TA\"],\n",
    "        3: [\"Gd\"]\n",
    "    },\n",
    "    'TotRmsAbvGrd': {\n",
    "        1: [\"2\",\"3\"],\n",
    "        2: [\"4\"],\n",
    "        3: [\"5\",\"6\",\"7\",\"8\",\"9\"],\n",
    "        4: [\"10\",\"11\",\"12\",\"13\",\"14\",\"15\"]\n",
    "    },\n",
    "    'Functional': {\n",
    "        1: [\"Typ\",\"Mod\"],\n",
    "        2: [\"Min1\",\"Min2\"],\n",
    "        3:[\"Maj1\",\"Maj2\",\"Sev\"]\n",
    "    },\n",
    "    'Fireplaces': {\n",
    "        1: [\"0\"],\n",
    "        2: [\"1\",\"2\",\"3\",\"4\"]\n",
    "    },\n",
    "    'FireplaceQu': {\n",
    "        1: [\"Ex\"],\n",
    "        2: [\"Gd\"],\n",
    "        3: [\"TA\"],\n",
    "        4: [\"Fa\",\"Po\",\"eNA\"]\n",
    "    },\n",
    "    'GarageType': {\n",
    "        1: [\"Attchd\"],\n",
    "        2: [\"BuiltIn\"],\n",
    "        3: [\"2Types\",\"Detchd\"],\n",
    "        4: [\"Basment\"],\n",
    "        5: [\"CarPort\", \"eNA\"]\n",
    "    },\n",
    "    'GarageFinish': {\n",
    "        1: [\"RFn\",\"Fin\"],\n",
    "        2: [\"Unf\"],\n",
    "        3: [\"eNA\"]\n",
    "    },\n",
    "    \n",
    "    'GarageCars': {\n",
    "        1: [\"0\"],\n",
    "        2: [\"1\"],\n",
    "        3: [\"2\"],\n",
    "        4: [\"3\",\"4\",\"5\"]\n",
    "    },\n",
    "    \n",
    "    'GarageQual': {\n",
    "        1: [\"TA\",\"Gd\"],\n",
    "        2: [\"Ex\"],\n",
    "        3: [\"Fa\",\"eNA\",\"Po\"]\n",
    "    },\n",
    "    'GarageCond': {\n",
    "        1: [\"TA\"],\n",
    "        2:  [\"Gd\"],\n",
    "        3:  [\"Fa\",\"eNA\"],\n",
    "        4:  [\"Po\"],\n",
    "        5:  [\"Ex\"]\n",
    "    },\n",
    "    'PavedDrive': {\n",
    "        1: [\"Y\"],\n",
    "        2: [\"N\",\"P\"]\n",
    "    },\n",
    "    'Fence': {\n",
    "        1: [\"eNA\"],\n",
    "        2: [\"MnPrv\",\"GdWo\",\"MnWw\"],\n",
    "        3: [\"GdPrv\"]\n",
    "    },\n",
    "    #'MiscFeature': {\n",
    "    #    1: [\"eNA\"],\n",
    "    #    2: [\"Shed\",\"Gar2\",\"Othr\",\"TenC\"]\n",
    "    #},\n",
    "    'MoSold': {\n",
    "        1: [\"1\",\"3\",\"4\",\"5\",\"6\",\"8\",\"9\",\"10\",\"11\",\"12\"],\n",
    "        2: [\"7\"],\n",
    "        3: [\"2\"]\n",
    "    },\n",
    "    'YrSold': {\n",
    "        1: [\"2006\"],\n",
    "        2: [\"2007\"],\n",
    "        3: [\"2008\"],\n",
    "        4: [\"2009\"],\n",
    "        5: [\"2010\"]\n",
    "    },\n",
    "    'SaleType': {\n",
    "        1: [\"WD\",\"COD\",\"ConLw\",\"ConLI\",\"ConLD\",\"Oth\",\"CWD\",\"VWD\",\"Con\"],\n",
    "        2: [\"New\"]\n",
    "    },\n",
    "    'SaleCondition': {\n",
    "        1: [\"Normal\"],\n",
    "        2: [\"Abnorml\",\"AdjLand\"],\n",
    "        3: [\"Alloca\",\"Family\",\"Partial\"]\n",
    "    },\n",
    "    'MSSubClass': {\n",
    "        1: [\"20\",\"60\",\"120\"],\n",
    "        2: [\"30\",\"45\",\"160\",\"190\",\"40\",\"180\",\"90\",\"150\"],\n",
    "        3: [\"50\",\"70\"],\n",
    "        4: [\"75\",\"80\",\"85\"]\n",
    "    },\n",
    "    'RoofStyle': {\n",
    "        1: [\"Hip\"],\n",
    "        2: [\"Gable\",\"Gambrel\",\"Mansard\",\"Flat\",\"Shed\"]\n",
    "    },\n",
    "    'Exterior1st': {\n",
    "        1: [\"CemntBd\",\"VinylSd\",\"BrkFace\"],\n",
    "        2: [\"MetalSd\",\"Wd Sdng\",\"HdBoard\",\"Plywood\",\"Stucco\",\"WdShing\",\"AsbShng\"],\n",
    "        3: [\"BrkComm\",\"AsphShn\",\"ImStucc\",\"CBlock\",\"Stone\"]\n",
    "    },\n",
    "    'Exterior2nd': {\n",
    "        1: [\"CmentBd\",\"VinylSd\",\"BrkFace\",\"ImStucc\",\"Stucco\",\"Stone\"],\n",
    "        2: [\"MetalSd\",\"Wd Sdng\",\"HdBoard\",\"Plywood\",\"AsbShng\",\"AsphShn\",\"Wd Shng\"],\n",
    "        3: [\"Brk Cmn\",\"CBlock\",\"Other\"]\n",
    "    },\n",
    "    'MasVnrType': {\n",
    "        1: [\"None\", \"BrkCmn\", \"eNA\"],\n",
    "        2: [\"Stone\", \"BrkFace\"]\n",
    "    },\n",
    "    'ExterQual': {\n",
    "        1: [\"Ex\",\"Gd\"],\n",
    "        2: [\"TA\",\"Fa\"]\n",
    "    },\n",
    "    'ExterCond': {\n",
    "        1: [\"Ex\",\"Gd\",\"TA\"],\n",
    "        2: [\"Fa\",\"Po\"]\n",
    "    },\n",
    "    'Foundation': {\n",
    "        1: [\"PConc\",\"Wood\",\"Stone\"],\n",
    "        2: [\"CBlock\",\"BrkTil\",\"Slab\"]\n",
    "    },\n",
    "    'BsmtQual': {\n",
    "        1: [\"Ex\"],\n",
    "        2: [\"Gd\",\"TA\"],\n",
    "        3: [\"Fa\",\"eNA\"]\n",
    "    },\n",
    "    'BsmtCond': {\n",
    "        1: [\"TA\"],\n",
    "        2: [\"Gd\"],\n",
    "        3: [\"Fa\",\"Po\",\"eNA\"]\n",
    "    },\n",
    "    'BsmtExposure': {\n",
    "        1: [\"No\",\"Mn\",\"Av\"],\n",
    "        2: [\"Gd\"],\n",
    "        3: [\"eNA\"]\n",
    "    },\n",
    "    'BsmtFinType1': {\n",
    "        1: [\"GLQ\"],\n",
    "        2: [\"ALQ\",\"Rec\",\"BLQ\",\"LwQ\",\"Unf\",\"eNA\"]\n",
    "    },\n",
    "    'BsmtFinType2': {\n",
    "        1: [\"Unf\"],\n",
    "        2: [\"Rec\",\"BLQ\",\"LwQ\",\"eNA\"],\n",
    "        3: [\"ALQ\",\"GLQ\"]\n",
    "    },\n",
    "\n",
    "    'MSZoning': {\n",
    "        1: [\"A\",\"I\",\"RP\"],\n",
    "        2: [\"FV\",\"RL\"],\n",
    "        3: [\"C (all)\",\"RH\",\"RM\"]\n",
    "    },\n",
    "    'Alley': {\n",
    "        1: [\"Grvl\",\"Pave\"],\n",
    "        2: [\"eNA\"]\n",
    "    },\n",
    "    'LotShape': {\n",
    "        1: [\"Reg\"],\n",
    "        2: [\"IR1\",\"IR2\",\"IR3\"]\n",
    "    },\n",
    "    'LandContour': {\n",
    "        1: [\"Lvl\"],\n",
    "        2: [\"Bnk\",\"HLS\",\"Low\"]\n",
    "    },\n",
    "    'LotConfig': {\n",
    "        1: [\"Inside\"],\n",
    "        2: [\"Corner\",\"FR2\"],\n",
    "        3: [\"CulDSac\",\"FR3\"]\n",
    "    },\n",
    "    'LandSlope': {\n",
    "        1: [\"Gtl\"],\n",
    "        2: [\"Mod\",\"Sev\"]\n",
    "    },\n",
    "    'Condition1': {\n",
    "        1: [\"Artery\",\"Feedr\",\"RRAe\",\"RRAn\",\"RRNe\"],\n",
    "        2: [\"Norm\"],\n",
    "        3: [\"PosA\",\"PosN\",\"RRNn\"]\n",
    "    },\n",
    "    'BldgType': {\n",
    "        1: [\"1Fam\"],\n",
    "        2: [\"2fmCon\",\"Duplex\",\"Twnhs\"],\n",
    "        3: [\"TwnhsE\"]\n",
    "    },\n",
    "    'HouseStyle': {\n",
    "        1: [\"1.5Fin\",\"1.5Unf\",\"2.5Unf\",\"SFoyer\",\"SLvl\"],\n",
    "        2: [\"1Story\",\"2.5Fin\",\"2Story\"]\n",
    "    },\n",
    "    'OverallQual': {\n",
    "        1: [\"1\",\"2\",\"3\",\"4\"],\n",
    "        2: [\"5\"],\n",
    "        3: [\"6\"],\n",
    "        4: [\"7\",\"8\",\"9\",\"10\"]\n",
    "    },\n",
    "    \n",
    "    'Neighborhood' : {\n",
    "        1: [\"NoRidge\",\"NridgHt\",\"StoneBr\"],\n",
    "        2: [\"CollgCr\",\"Veenker\",\"Crawfor\",\"Somerst\",\"NWAmes\",\"SawyerW\",\"Timber\",\"Gilbert\",\"ClearCr\",\"Blmngtn\"],\n",
    "        3: [\"Mitchel\",\"OldTown\",\"BrkSide\",\"Sawyer\",\"NAmes\",\"IDOTRR\",\"MeadowV\",\"Edwards\",\"NPkVill\",\"BrDale\",\"SWISU\",\"Blueste\"]\n",
    "    },    \n",
    "    'OverallCond': {\n",
    "        1: [\"1\",\"2\",\"3\",\"4\"],\n",
    "        2: [\"5\"],\n",
    "        3: [\"6\",\"7\",\"8\",\"9\"]\n",
    "    }\n",
    "   \n",
    "}\n",
    "\n",
    "\n"
   ]
  },
  {
   "cell_type": "markdown",
   "metadata": {},
   "source": [
    "## Continuous features regroupement"
   ]
  },
  {
   "cell_type": "markdown",
   "metadata": {},
   "source": [
    "If you set a new list of replacements you will probably have to fill manually the gaps between classes"
   ]
  },
  {
   "cell_type": "code",
   "execution_count": 25,
   "metadata": {},
   "outputs": [],
   "source": [
    "#Left cap excluded, right cap included\n",
    "ListeDesReglesQuantiKB = { \n",
    "    'YrBltAndRemod': {\n",
    "        1: [0,3917],\n",
    "        2: [3918,3966],\n",
    "        3: [3967,4010],\n",
    "        4: [4011,8040]\n",
    "    },\n",
    "    'LotFrontage': {\n",
    "        1: [0,60.0],\n",
    "        2: [61.0,74.0],\n",
    "        3: [75.0,90.0],\n",
    "        4: [91.0,220.0]\n",
    "    },\n",
    "    'LotArea': {\n",
    "        1: [0,8639],\n",
    "        2: [8640,10990],\n",
    "        3: [10991,13680],\n",
    "        4: [13682,430490]\n",
    "    },\n",
    "    'YearBuilt': {\n",
    "        1: [0,1956],\n",
    "        2: [1957,1984],\n",
    "        3: [1985,2005],\n",
    "        4: [2006,4020]\n",
    "    },\n",
    "    'YearRemodAdd': {\n",
    "        1: [0,1956],\n",
    "        2: [1957,1983],\n",
    "        3: [1984,2007],\n",
    "        4: [2008,4020]\n",
    "    },\n",
    "    'BsmtFinSF2': {\n",
    "        1: [0,80],\n",
    "        2: [81,1029],\n",
    "        3: [1031,1061],\n",
    "        4: [1063,2948]\n",
    "    },\n",
    "    'GarageYrBlt': {\n",
    "        1: [0,1958.0],\n",
    "        2: [1959.0,1987.0],\n",
    "        3: [1988.0,2005.0],\n",
    "        4: [2006.0,4020.0]\n",
    "    },\n",
    "    'WoodDeckSF': {\n",
    "        1: [0,84],\n",
    "        2: [85,96],\n",
    "        3: [97,158],\n",
    "        4: [159,1714]\n",
    "    },\n",
    "    'OpenPorchSF': {\n",
    "        1: [0,8],\n",
    "        2: [10,29],\n",
    "        3: [30,43],\n",
    "        4: [44,1046]\n",
    "    },\n",
    "    'EnclosedPorch': {\n",
    "        1: [0,36],\n",
    "        2: [37,47],\n",
    "        3: [48,140],\n",
    "        4: [143,1104]\n",
    "    },\n",
    "}\n",
    "\n"
   ]
  },
  {
   "cell_type": "markdown",
   "metadata": {},
   "source": [
    "# States regroupment"
   ]
  },
  {
   "cell_type": "code",
   "execution_count": 26,
   "metadata": {},
   "outputs": [],
   "source": [
    "X_train_rgrpd = copy.deepcopy(X_train)\n",
    "X_test_rgrpd = copy.deepcopy(X_test)\n",
    "submission_rgrpd = copy.deepcopy(submission)"
   ]
  },
  {
   "cell_type": "code",
   "execution_count": 27,
   "metadata": {},
   "outputs": [],
   "source": [
    "for dataset in [X_train_rgrpd, X_test_rgrpd, submission_rgrpd]: \n",
    "    # ----------- Pour chaque colonne du DataSet nous allons regrouper ------------\n",
    "    for feature in dataset:      \n",
    "        # ------------------------ If the feature is categorical ----------------------    \n",
    "        if (feature in ListeDesReglesQuali):\n",
    "            featureDiscretise = ownLibrary.discretise_1col_quali(dataset[feature], feature, ListeDesReglesQuali[feature])\n",
    "            dataset.drop([feature], axis=1, inplace=True)\n",
    "            dataset[feature] = featureDiscretise\n",
    "\n",
    "        # ------------------------ If the feature is continuous ----------------------                            \n",
    "        elif (feature in ListeDesReglesQuantiKB):\n",
    "            featureDiscretise = ownLibrary.discretise_1col_quanti(dataset[feature], feature, ListeDesReglesQuantiKB[feature])\n",
    "            if( len(dataset[feature]) != len(featureDiscretise)):\n",
    "                print('len(dataset[feature]) != len(featureDiscretise) : ' + str(dataset[feature]) + ' != ' + str(featureDiscretise))\n",
    "            else:    \n",
    "                dataset.drop([feature], axis=1, inplace=True)\n",
    "                dataset[feature] = featureDiscretise          \n",
    "                    \n",
    "     \n"
   ]
  },
  {
   "cell_type": "code",
   "execution_count": 28,
   "metadata": {},
   "outputs": [],
   "source": [
    "X_train = copy.deepcopy(X_train_rgrpd)\n",
    "X_test = copy.deepcopy(X_test_rgrpd)\n",
    "submission = copy.deepcopy(submission_rgrpd)"
   ]
  },
  {
   "cell_type": "code",
   "execution_count": 29,
   "metadata": {},
   "outputs": [],
   "source": [
    "X_train.reset_index(drop=True, inplace=True)   \n",
    "y_train.reset_index(drop=True, inplace=True) \n",
    "rgrpd_train = pd.concat([X_train, y_train], axis=1, sort=True)\n",
    "\n",
    "X_test.reset_index(drop=True, inplace=True)\n",
    "y_test.reset_index(drop=True, inplace=True) \n",
    "rgrpd_test = pd.concat([X_test, y_test], axis=1, sort=True)"
   ]
  },
  {
   "cell_type": "code",
   "execution_count": 30,
   "metadata": {},
   "outputs": [],
   "source": [
    "rgrpd_train.rename(columns={0: \"SalePrice\"}, inplace=True)\n",
    "rgrpd_test.rename(columns={0: \"SalePrice\"}, inplace=True)\n",
    "submission.rename(columns={0: \"SalePrice\"}, inplace=True)"
   ]
  },
  {
   "cell_type": "markdown",
   "metadata": {},
   "source": [
    "# Features regroupment"
   ]
  },
  {
   "cell_type": "code",
   "execution_count": 31,
   "metadata": {},
   "outputs": [],
   "source": [
    "\n",
    "for df in [rgrpd_train, rgrpd_test, submission]:\n",
    "    df[\"NewFirePlaces\"] = df[\"Fireplaces\"].astype(str) + df[\"FireplaceQu\"].astype(str)\n",
    "    df[\"NewExterQualCond\"] = df[\"ExterQual\"].astype(str) + df[\"ExterCond\"].astype(str)\n",
    "    df[\"NewCentrAirElec\"] = df[\"CentralAir\"].astype(str) + df[\"Electrical\"].astype(str)\n",
    "    df[\"NewKitchen\"] = df[\"KitchenAbvGr\"].astype(str) + df[\"KitchenQual\"].astype(str)\n",
    "    df[\"NewSale\"] = df[\"SaleType\"].astype(str) + df[\"SaleCondition\"].astype(str)\n",
    "    \n",
    "    df.drop(['Fireplaces'], axis=1, inplace=True)\n",
    "    df.drop(['FireplaceQu'], axis=1, inplace=True)\n",
    "    df.drop(['ExterQual'], axis=1, inplace=True)\n",
    "    df.drop(['ExterCond'], axis=1, inplace=True)\n",
    "    df.drop(['CentralAir'], axis=1, inplace=True)\n",
    "    df.drop(['Electrical'], axis=1, inplace=True)\n",
    "    df.drop(['KitchenAbvGr'], axis=1, inplace=True)\n",
    "    df.drop(['KitchenQual'], axis=1, inplace=True)\n",
    "    df.drop(['SaleType'], axis=1, inplace=True)\n",
    "    df.drop(['SaleCondition'], axis=1, inplace=True)\n",
    "    "
   ]
  },
  {
   "cell_type": "code",
   "execution_count": 32,
   "metadata": {},
   "outputs": [
    {
     "data": {
      "text/html": [
       "<div>\n",
       "<style scoped>\n",
       "    .dataframe tbody tr th:only-of-type {\n",
       "        vertical-align: middle;\n",
       "    }\n",
       "\n",
       "    .dataframe tbody tr th {\n",
       "        vertical-align: top;\n",
       "    }\n",
       "\n",
       "    .dataframe thead th {\n",
       "        text-align: right;\n",
       "    }\n",
       "</style>\n",
       "<table border=\"1\" class=\"dataframe\">\n",
       "  <thead>\n",
       "    <tr style=\"text-align: right;\">\n",
       "      <th></th>\n",
       "      <th>Id</th>\n",
       "      <th>MasVnrArea</th>\n",
       "      <th>BsmtFinSF1</th>\n",
       "      <th>BsmtUnfSF</th>\n",
       "      <th>TotalBsmtSF</th>\n",
       "      <th>1stFlrSF</th>\n",
       "      <th>2ndFlrSF</th>\n",
       "      <th>GrLivArea</th>\n",
       "      <th>GarageArea</th>\n",
       "      <th>ScreenPorch</th>\n",
       "      <th>MiscVal</th>\n",
       "      <th>TotalSF</th>\n",
       "      <th>Total_sqr_footage</th>\n",
       "      <th>Total_Bathrooms</th>\n",
       "      <th>Total_porch_sf</th>\n",
       "      <th>haspool</th>\n",
       "      <th>has2ndfloor</th>\n",
       "      <th>hasgarage</th>\n",
       "      <th>hasbsmt</th>\n",
       "      <th>hasfireplace</th>\n",
       "      <th>SalePrice_log</th>\n",
       "      <th>MSSubClass</th>\n",
       "      <th>MSZoning</th>\n",
       "      <th>LotFrontage</th>\n",
       "      <th>LotArea</th>\n",
       "      <th>Alley</th>\n",
       "      <th>LotShape</th>\n",
       "      <th>LandContour</th>\n",
       "      <th>LotConfig</th>\n",
       "      <th>LandSlope</th>\n",
       "      <th>Neighborhood</th>\n",
       "      <th>Condition1</th>\n",
       "      <th>BldgType</th>\n",
       "      <th>HouseStyle</th>\n",
       "      <th>OverallQual</th>\n",
       "      <th>OverallCond</th>\n",
       "      <th>YearBuilt</th>\n",
       "      <th>YearRemodAdd</th>\n",
       "      <th>RoofStyle</th>\n",
       "      <th>Exterior1st</th>\n",
       "      <th>Exterior2nd</th>\n",
       "      <th>MasVnrType</th>\n",
       "      <th>Foundation</th>\n",
       "      <th>BsmtQual</th>\n",
       "      <th>BsmtCond</th>\n",
       "      <th>BsmtExposure</th>\n",
       "      <th>BsmtFinType1</th>\n",
       "      <th>BsmtFinType2</th>\n",
       "      <th>BsmtFinSF2</th>\n",
       "      <th>HeatingQC</th>\n",
       "      <th>BsmtFullBath</th>\n",
       "      <th>BsmtHalfBath</th>\n",
       "      <th>FullBath</th>\n",
       "      <th>HalfBath</th>\n",
       "      <th>BedroomAbvGr</th>\n",
       "      <th>TotRmsAbvGrd</th>\n",
       "      <th>Functional</th>\n",
       "      <th>GarageType</th>\n",
       "      <th>GarageYrBlt</th>\n",
       "      <th>GarageFinish</th>\n",
       "      <th>GarageCars</th>\n",
       "      <th>GarageQual</th>\n",
       "      <th>GarageCond</th>\n",
       "      <th>PavedDrive</th>\n",
       "      <th>WoodDeckSF</th>\n",
       "      <th>OpenPorchSF</th>\n",
       "      <th>EnclosedPorch</th>\n",
       "      <th>Fence</th>\n",
       "      <th>MoSold</th>\n",
       "      <th>YrSold</th>\n",
       "      <th>YrBltAndRemod</th>\n",
       "      <th>SalePrice</th>\n",
       "      <th>NewFirePlaces</th>\n",
       "      <th>NewExterQualCond</th>\n",
       "      <th>NewCentrAirElec</th>\n",
       "      <th>NewKitchen</th>\n",
       "      <th>NewSale</th>\n",
       "    </tr>\n",
       "  </thead>\n",
       "  <tbody>\n",
       "    <tr>\n",
       "      <th>0</th>\n",
       "      <td>211</td>\n",
       "      <td>0.0</td>\n",
       "      <td>468</td>\n",
       "      <td>396</td>\n",
       "      <td>864</td>\n",
       "      <td>864</td>\n",
       "      <td>0</td>\n",
       "      <td>864</td>\n",
       "      <td>0</td>\n",
       "      <td>0</td>\n",
       "      <td>0</td>\n",
       "      <td>1728</td>\n",
       "      <td>1332</td>\n",
       "      <td>2.0</td>\n",
       "      <td>96</td>\n",
       "      <td>0</td>\n",
       "      <td>0</td>\n",
       "      <td>0</td>\n",
       "      <td>1</td>\n",
       "      <td>0</td>\n",
       "      <td>11.492723</td>\n",
       "      <td>2</td>\n",
       "      <td>2</td>\n",
       "      <td>2</td>\n",
       "      <td>1</td>\n",
       "      <td>2</td>\n",
       "      <td>1</td>\n",
       "      <td>1</td>\n",
       "      <td>1</td>\n",
       "      <td>1</td>\n",
       "      <td>3</td>\n",
       "      <td>2</td>\n",
       "      <td>1</td>\n",
       "      <td>2</td>\n",
       "      <td>2</td>\n",
       "      <td>3</td>\n",
       "      <td>1</td>\n",
       "      <td>1</td>\n",
       "      <td>2</td>\n",
       "      <td>2</td>\n",
       "      <td>1</td>\n",
       "      <td>1</td>\n",
       "      <td>2</td>\n",
       "      <td>2</td>\n",
       "      <td>1</td>\n",
       "      <td>1</td>\n",
       "      <td>2</td>\n",
       "      <td>1</td>\n",
       "      <td>1</td>\n",
       "      <td>2</td>\n",
       "      <td>2</td>\n",
       "      <td>1</td>\n",
       "      <td>1</td>\n",
       "      <td>1</td>\n",
       "      <td>1</td>\n",
       "      <td>3</td>\n",
       "      <td>1</td>\n",
       "      <td>5</td>\n",
       "      <td>1</td>\n",
       "      <td>3</td>\n",
       "      <td>1</td>\n",
       "      <td>3</td>\n",
       "      <td>3</td>\n",
       "      <td>1</td>\n",
       "      <td>1</td>\n",
       "      <td>1</td>\n",
       "      <td>3</td>\n",
       "      <td>1</td>\n",
       "      <td>1</td>\n",
       "      <td>3</td>\n",
       "      <td>1</td>\n",
       "      <td>98000</td>\n",
       "      <td>14</td>\n",
       "      <td>21</td>\n",
       "      <td>22</td>\n",
       "      <td>12</td>\n",
       "      <td>11</td>\n",
       "    </tr>\n",
       "    <tr>\n",
       "      <th>1</th>\n",
       "      <td>319</td>\n",
       "      <td>256.0</td>\n",
       "      <td>987</td>\n",
       "      <td>360</td>\n",
       "      <td>1347</td>\n",
       "      <td>1372</td>\n",
       "      <td>1274</td>\n",
       "      <td>2646</td>\n",
       "      <td>656</td>\n",
       "      <td>0</td>\n",
       "      <td>0</td>\n",
       "      <td>3993</td>\n",
       "      <td>3633</td>\n",
       "      <td>3.5</td>\n",
       "      <td>544</td>\n",
       "      <td>0</td>\n",
       "      <td>1</td>\n",
       "      <td>1</td>\n",
       "      <td>1</td>\n",
       "      <td>1</td>\n",
       "      <td>12.468437</td>\n",
       "      <td>1</td>\n",
       "      <td>2</td>\n",
       "      <td>3</td>\n",
       "      <td>2</td>\n",
       "      <td>2</td>\n",
       "      <td>1</td>\n",
       "      <td>2</td>\n",
       "      <td>1</td>\n",
       "      <td>2</td>\n",
       "      <td>1</td>\n",
       "      <td>2</td>\n",
       "      <td>1</td>\n",
       "      <td>2</td>\n",
       "      <td>4</td>\n",
       "      <td>2</td>\n",
       "      <td>3</td>\n",
       "      <td>3</td>\n",
       "      <td>2</td>\n",
       "      <td>2</td>\n",
       "      <td>2</td>\n",
       "      <td>2</td>\n",
       "      <td>1</td>\n",
       "      <td>2</td>\n",
       "      <td>1</td>\n",
       "      <td>2</td>\n",
       "      <td>1</td>\n",
       "      <td>1</td>\n",
       "      <td>1</td>\n",
       "      <td>1</td>\n",
       "      <td>2</td>\n",
       "      <td>1</td>\n",
       "      <td>2</td>\n",
       "      <td>2</td>\n",
       "      <td>3</td>\n",
       "      <td>3</td>\n",
       "      <td>1</td>\n",
       "      <td>1</td>\n",
       "      <td>3</td>\n",
       "      <td>1</td>\n",
       "      <td>4</td>\n",
       "      <td>1</td>\n",
       "      <td>1</td>\n",
       "      <td>1</td>\n",
       "      <td>4</td>\n",
       "      <td>4</td>\n",
       "      <td>4</td>\n",
       "      <td>1</td>\n",
       "      <td>1</td>\n",
       "      <td>4</td>\n",
       "      <td>3</td>\n",
       "      <td>260000</td>\n",
       "      <td>23</td>\n",
       "      <td>11</td>\n",
       "      <td>11</td>\n",
       "      <td>13</td>\n",
       "      <td>11</td>\n",
       "    </tr>\n",
       "    <tr>\n",
       "      <th>2</th>\n",
       "      <td>240</td>\n",
       "      <td>0.0</td>\n",
       "      <td>94</td>\n",
       "      <td>641</td>\n",
       "      <td>735</td>\n",
       "      <td>798</td>\n",
       "      <td>689</td>\n",
       "      <td>1487</td>\n",
       "      <td>220</td>\n",
       "      <td>0</td>\n",
       "      <td>0</td>\n",
       "      <td>2222</td>\n",
       "      <td>1581</td>\n",
       "      <td>1.5</td>\n",
       "      <td>140</td>\n",
       "      <td>0</td>\n",
       "      <td>1</td>\n",
       "      <td>1</td>\n",
       "      <td>1</td>\n",
       "      <td>1</td>\n",
       "      <td>11.635143</td>\n",
       "      <td>3</td>\n",
       "      <td>2</td>\n",
       "      <td>1</td>\n",
       "      <td>2</td>\n",
       "      <td>2</td>\n",
       "      <td>1</td>\n",
       "      <td>1</td>\n",
       "      <td>1</td>\n",
       "      <td>1</td>\n",
       "      <td>3</td>\n",
       "      <td>2</td>\n",
       "      <td>1</td>\n",
       "      <td>1</td>\n",
       "      <td>3</td>\n",
       "      <td>1</td>\n",
       "      <td>1</td>\n",
       "      <td>1</td>\n",
       "      <td>2</td>\n",
       "      <td>1</td>\n",
       "      <td>1</td>\n",
       "      <td>1</td>\n",
       "      <td>2</td>\n",
       "      <td>2</td>\n",
       "      <td>3</td>\n",
       "      <td>1</td>\n",
       "      <td>2</td>\n",
       "      <td>1</td>\n",
       "      <td>1</td>\n",
       "      <td>2</td>\n",
       "      <td>1</td>\n",
       "      <td>1</td>\n",
       "      <td>1</td>\n",
       "      <td>2</td>\n",
       "      <td>2</td>\n",
       "      <td>3</td>\n",
       "      <td>1</td>\n",
       "      <td>3</td>\n",
       "      <td>1</td>\n",
       "      <td>2</td>\n",
       "      <td>2</td>\n",
       "      <td>1</td>\n",
       "      <td>1</td>\n",
       "      <td>1</td>\n",
       "      <td>1</td>\n",
       "      <td>4</td>\n",
       "      <td>1</td>\n",
       "      <td>2</td>\n",
       "      <td>1</td>\n",
       "      <td>5</td>\n",
       "      <td>1</td>\n",
       "      <td>113000</td>\n",
       "      <td>22</td>\n",
       "      <td>21</td>\n",
       "      <td>12</td>\n",
       "      <td>12</td>\n",
       "      <td>11</td>\n",
       "    </tr>\n",
       "    <tr>\n",
       "      <th>3</th>\n",
       "      <td>987</td>\n",
       "      <td>0.0</td>\n",
       "      <td>0</td>\n",
       "      <td>485</td>\n",
       "      <td>485</td>\n",
       "      <td>1001</td>\n",
       "      <td>634</td>\n",
       "      <td>1635</td>\n",
       "      <td>255</td>\n",
       "      <td>0</td>\n",
       "      <td>0</td>\n",
       "      <td>2120</td>\n",
       "      <td>1635</td>\n",
       "      <td>1.0</td>\n",
       "      <td>394</td>\n",
       "      <td>0</td>\n",
       "      <td>1</td>\n",
       "      <td>1</td>\n",
       "      <td>1</td>\n",
       "      <td>0</td>\n",
       "      <td>11.669929</td>\n",
       "      <td>3</td>\n",
       "      <td>3</td>\n",
       "      <td>1</td>\n",
       "      <td>1</td>\n",
       "      <td>2</td>\n",
       "      <td>1</td>\n",
       "      <td>1</td>\n",
       "      <td>2</td>\n",
       "      <td>1</td>\n",
       "      <td>3</td>\n",
       "      <td>1</td>\n",
       "      <td>1</td>\n",
       "      <td>1</td>\n",
       "      <td>3</td>\n",
       "      <td>3</td>\n",
       "      <td>1</td>\n",
       "      <td>3</td>\n",
       "      <td>1</td>\n",
       "      <td>1</td>\n",
       "      <td>1</td>\n",
       "      <td>1</td>\n",
       "      <td>2</td>\n",
       "      <td>2</td>\n",
       "      <td>3</td>\n",
       "      <td>1</td>\n",
       "      <td>2</td>\n",
       "      <td>1</td>\n",
       "      <td>1</td>\n",
       "      <td>2</td>\n",
       "      <td>1</td>\n",
       "      <td>1</td>\n",
       "      <td>1</td>\n",
       "      <td>1</td>\n",
       "      <td>1</td>\n",
       "      <td>3</td>\n",
       "      <td>1</td>\n",
       "      <td>1</td>\n",
       "      <td>1</td>\n",
       "      <td>2</td>\n",
       "      <td>2</td>\n",
       "      <td>3</td>\n",
       "      <td>1</td>\n",
       "      <td>1</td>\n",
       "      <td>4</td>\n",
       "      <td>1</td>\n",
       "      <td>1</td>\n",
       "      <td>1</td>\n",
       "      <td>1</td>\n",
       "      <td>1</td>\n",
       "      <td>1</td>\n",
       "      <td>117000</td>\n",
       "      <td>14</td>\n",
       "      <td>21</td>\n",
       "      <td>11</td>\n",
       "      <td>13</td>\n",
       "      <td>11</td>\n",
       "    </tr>\n",
       "    <tr>\n",
       "      <th>4</th>\n",
       "      <td>1417</td>\n",
       "      <td>0.0</td>\n",
       "      <td>0</td>\n",
       "      <td>777</td>\n",
       "      <td>777</td>\n",
       "      <td>1246</td>\n",
       "      <td>1044</td>\n",
       "      <td>2290</td>\n",
       "      <td>560</td>\n",
       "      <td>0</td>\n",
       "      <td>0</td>\n",
       "      <td>3067</td>\n",
       "      <td>2290</td>\n",
       "      <td>2.0</td>\n",
       "      <td>114</td>\n",
       "      <td>0</td>\n",
       "      <td>1</td>\n",
       "      <td>1</td>\n",
       "      <td>1</td>\n",
       "      <td>0</td>\n",
       "      <td>11.715866</td>\n",
       "      <td>2</td>\n",
       "      <td>3</td>\n",
       "      <td>1</td>\n",
       "      <td>3</td>\n",
       "      <td>2</td>\n",
       "      <td>1</td>\n",
       "      <td>1</td>\n",
       "      <td>1</td>\n",
       "      <td>1</td>\n",
       "      <td>3</td>\n",
       "      <td>2</td>\n",
       "      <td>2</td>\n",
       "      <td>2</td>\n",
       "      <td>1</td>\n",
       "      <td>3</td>\n",
       "      <td>1</td>\n",
       "      <td>1</td>\n",
       "      <td>2</td>\n",
       "      <td>1</td>\n",
       "      <td>2</td>\n",
       "      <td>1</td>\n",
       "      <td>1</td>\n",
       "      <td>2</td>\n",
       "      <td>1</td>\n",
       "      <td>1</td>\n",
       "      <td>2</td>\n",
       "      <td>1</td>\n",
       "      <td>1</td>\n",
       "      <td>2</td>\n",
       "      <td>1</td>\n",
       "      <td>1</td>\n",
       "      <td>2</td>\n",
       "      <td>1</td>\n",
       "      <td>3</td>\n",
       "      <td>4</td>\n",
       "      <td>1</td>\n",
       "      <td>3</td>\n",
       "      <td>2</td>\n",
       "      <td>2</td>\n",
       "      <td>3</td>\n",
       "      <td>1</td>\n",
       "      <td>1</td>\n",
       "      <td>2</td>\n",
       "      <td>1</td>\n",
       "      <td>1</td>\n",
       "      <td>3</td>\n",
       "      <td>1</td>\n",
       "      <td>1</td>\n",
       "      <td>5</td>\n",
       "      <td>1</td>\n",
       "      <td>122500</td>\n",
       "      <td>14</td>\n",
       "      <td>21</td>\n",
       "      <td>11</td>\n",
       "      <td>22</td>\n",
       "      <td>11</td>\n",
       "    </tr>\n",
       "  </tbody>\n",
       "</table>\n",
       "</div>"
      ],
      "text/plain": [
       "     Id  MasVnrArea  BsmtFinSF1  BsmtUnfSF  TotalBsmtSF  1stFlrSF  2ndFlrSF  \\\n",
       "0   211         0.0         468        396          864       864         0   \n",
       "1   319       256.0         987        360         1347      1372      1274   \n",
       "2   240         0.0          94        641          735       798       689   \n",
       "3   987         0.0           0        485          485      1001       634   \n",
       "4  1417         0.0           0        777          777      1246      1044   \n",
       "\n",
       "   GrLivArea  GarageArea  ScreenPorch  MiscVal  TotalSF  Total_sqr_footage  \\\n",
       "0        864           0            0        0     1728               1332   \n",
       "1       2646         656            0        0     3993               3633   \n",
       "2       1487         220            0        0     2222               1581   \n",
       "3       1635         255            0        0     2120               1635   \n",
       "4       2290         560            0        0     3067               2290   \n",
       "\n",
       "   Total_Bathrooms  Total_porch_sf  haspool  has2ndfloor  hasgarage  hasbsmt  \\\n",
       "0              2.0              96        0            0          0        1   \n",
       "1              3.5             544        0            1          1        1   \n",
       "2              1.5             140        0            1          1        1   \n",
       "3              1.0             394        0            1          1        1   \n",
       "4              2.0             114        0            1          1        1   \n",
       "\n",
       "   hasfireplace  SalePrice_log  MSSubClass  MSZoning  LotFrontage  LotArea  \\\n",
       "0             0      11.492723           2         2            2        1   \n",
       "1             1      12.468437           1         2            3        2   \n",
       "2             1      11.635143           3         2            1        2   \n",
       "3             0      11.669929           3         3            1        1   \n",
       "4             0      11.715866           2         3            1        3   \n",
       "\n",
       "   Alley  LotShape  LandContour  LotConfig  LandSlope  Neighborhood  \\\n",
       "0      2         1            1          1          1             3   \n",
       "1      2         1            2          1          2             1   \n",
       "2      2         1            1          1          1             3   \n",
       "3      2         1            1          2          1             3   \n",
       "4      2         1            1          1          1             3   \n",
       "\n",
       "   Condition1  BldgType  HouseStyle  OverallQual  OverallCond  YearBuilt  \\\n",
       "0           2         1           2            2            3          1   \n",
       "1           2         1           2            4            2          3   \n",
       "2           2         1           1            3            1          1   \n",
       "3           1         1           1            3            3          1   \n",
       "4           2         2           2            1            3          1   \n",
       "\n",
       "   YearRemodAdd  RoofStyle  Exterior1st  Exterior2nd  MasVnrType  Foundation  \\\n",
       "0             1          2            2            1           1           2   \n",
       "1             3          2            2            2           2           1   \n",
       "2             1          2            1            1           1           2   \n",
       "3             3          1            1            1           1           2   \n",
       "4             1          2            1            2           1           1   \n",
       "\n",
       "   BsmtQual  BsmtCond  BsmtExposure  BsmtFinType1  BsmtFinType2  BsmtFinSF2  \\\n",
       "0         2         1             1             2             1           1   \n",
       "1         2         1             2             1             1           1   \n",
       "2         2         3             1             2             1           1   \n",
       "3         2         3             1             2             1           1   \n",
       "4         2         1             1             2             1           1   \n",
       "\n",
       "   HeatingQC  BsmtFullBath  BsmtHalfBath  FullBath  HalfBath  BedroomAbvGr  \\\n",
       "0          2             2             1         1         1             1   \n",
       "1          1             2             1         2         2             3   \n",
       "2          2             1             1         1         2             2   \n",
       "3          2             1             1         1         1             1   \n",
       "4          2             1             1         2         1             3   \n",
       "\n",
       "   TotRmsAbvGrd  Functional  GarageType  GarageYrBlt  GarageFinish  \\\n",
       "0             3           1           5            1             3   \n",
       "1             3           1           1            3             1   \n",
       "2             3           1           3            1             2   \n",
       "3             3           1           1            1             2   \n",
       "4             4           1           3            2             2   \n",
       "\n",
       "   GarageCars  GarageQual  GarageCond  PavedDrive  WoodDeckSF  OpenPorchSF  \\\n",
       "0           1           3           3           1           1            1   \n",
       "1           4           1           1           1           4            4   \n",
       "2           2           1           1           1           1            4   \n",
       "3           2           3           1           1           4            1   \n",
       "4           3           1           1           2           1            1   \n",
       "\n",
       "   EnclosedPorch  Fence  MoSold  YrSold  YrBltAndRemod  SalePrice  \\\n",
       "0              3      1       1       3              1      98000   \n",
       "1              4      1       1       4              3     260000   \n",
       "2              1      2       1       5              1     113000   \n",
       "3              1      1       1       1              1     117000   \n",
       "4              3      1       1       5              1     122500   \n",
       "\n",
       "  NewFirePlaces NewExterQualCond NewCentrAirElec NewKitchen NewSale  \n",
       "0            14               21              22         12      11  \n",
       "1            23               11              11         13      11  \n",
       "2            22               21              12         12      11  \n",
       "3            14               21              11         13      11  \n",
       "4            14               21              11         22      11  "
      ]
     },
     "execution_count": 32,
     "metadata": {},
     "output_type": "execute_result"
    }
   ],
   "source": [
    "rgrpd_train.head(5)"
   ]
  },
  {
   "cell_type": "markdown",
   "metadata": {},
   "source": [
    "## Dichotomization"
   ]
  },
  {
   "cell_type": "code",
   "execution_count": 38,
   "metadata": {},
   "outputs": [],
   "source": [
    "train_dicho = pd.DataFrame()\n",
    "test_dicho = pd.DataFrame()\n",
    "submission_dicho = pd.DataFrame()"
   ]
  },
  {
   "cell_type": "code",
   "execution_count": 39,
   "metadata": {
    "scrolled": true
   },
   "outputs": [
    {
     "data": {
      "text/plain": [
       "['Id',\n",
       " 'MiscVal',\n",
       " 'SalePrice',\n",
       " 'SalePrice_log',\n",
       " '1stFlrSF',\n",
       " 'GarageArea',\n",
       " 'BsmtFinSF1',\n",
       " 'BsmtUnfSF',\n",
       " 'TotalBsmtSF',\n",
       " '2ndFlrSF',\n",
       " 'GrLivArea',\n",
       " 'MasVnrArea',\n",
       " 'ScreenPorch',\n",
       " 'TotalSF',\n",
       " 'Total_sqr_footage',\n",
       " 'Total_Bathrooms',\n",
       " 'Total_porch_sf',\n",
       " 'haspool',\n",
       " 'has2ndfloor',\n",
       " 'hasgarage',\n",
       " 'hasbsmt',\n",
       " 'hasfireplace']"
      ]
     },
     "execution_count": 39,
     "metadata": {},
     "output_type": "execute_result"
    }
   ],
   "source": [
    "ignore"
   ]
  },
  {
   "cell_type": "code",
   "execution_count": 40,
   "metadata": {},
   "outputs": [],
   "source": [
    "train_dicho = ownLibrary.dichotomize_dataset(rgrpd_train, ignore)\n",
    "test_dicho = ownLibrary.dichotomize_dataset(rgrpd_test, ignore)\n",
    "submission_dicho = ownLibrary.dichotomize_dataset(submission, ignore)"
   ]
  },
  {
   "cell_type": "markdown",
   "metadata": {},
   "source": [
    "## Polynomial Transformation"
   ]
  },
  {
   "cell_type": "code",
   "execution_count": 42,
   "metadata": {},
   "outputs": [
    {
     "name": "stdout",
     "output_type": "stream",
     "text": [
      "['1stFlrSF²', '1stFlrSFGarageArea', 'GarageArea²']\n",
      "['1stFlrSF²', '1stFlrSFGarageArea', 'GarageArea²']\n",
      "['1stFlrSF²', '1stFlrSFGarageArea', 'GarageArea²']\n"
     ]
    }
   ],
   "source": [
    "\n",
    "train_pr2_transformed = ownLibrary.PolynomialRegrTransformationReturnDF(train_dicho, pr2_best_performance, 2)\n",
    "test_pr2_transformed = ownLibrary.PolynomialRegrTransformationReturnDF(test_dicho, pr2_best_performance, 2)\n",
    "submission_pr2_transformed = ownLibrary.PolynomialRegrTransformationReturnDF(submission_dicho, pr2_best_performance, 2)\n"
   ]
  },
  {
   "cell_type": "code",
   "execution_count": 43,
   "metadata": {
    "scrolled": true
   },
   "outputs": [
    {
     "name": "stdout",
     "output_type": "stream",
     "text": [
      "['PR3_6', 'PR3_7', 'PR3_8', 'PR3_9', 'PR3_10', 'PR3_11', 'PR3_12', 'PR3_13', 'PR3_14', 'PR3_15', 'PR3_16', 'PR3_17', 'PR3_18', 'PR3_19', 'PR3_20', 'PR3_21', 'PR3_22', 'PR3_23', 'PR3_24', 'PR3_25', 'PR3_26', 'PR3_27', 'PR3_28', 'PR3_29', 'PR3_30', 'PR3_31', 'PR3_32', 'PR3_33', 'PR3_34', 'PR3_35', 'PR3_36', 'PR3_37', 'PR3_38', 'PR3_39', 'PR3_40', 'PR3_41', 'PR3_42', 'PR3_43', 'PR3_44', 'PR3_45', 'PR3_46', 'PR3_47', 'PR3_48', 'PR3_49', 'PR3_50', 'PR3_51', 'PR3_52', 'PR3_53', 'PR3_54', 'PR3_55']\n",
      "['PR3_6', 'PR3_7', 'PR3_8', 'PR3_9', 'PR3_10', 'PR3_11', 'PR3_12', 'PR3_13', 'PR3_14', 'PR3_15', 'PR3_16', 'PR3_17', 'PR3_18', 'PR3_19', 'PR3_20', 'PR3_21', 'PR3_22', 'PR3_23', 'PR3_24', 'PR3_25', 'PR3_26', 'PR3_27', 'PR3_28', 'PR3_29', 'PR3_30', 'PR3_31', 'PR3_32', 'PR3_33', 'PR3_34', 'PR3_35', 'PR3_36', 'PR3_37', 'PR3_38', 'PR3_39', 'PR3_40', 'PR3_41', 'PR3_42', 'PR3_43', 'PR3_44', 'PR3_45', 'PR3_46', 'PR3_47', 'PR3_48', 'PR3_49', 'PR3_50', 'PR3_51', 'PR3_52', 'PR3_53', 'PR3_54', 'PR3_55']\n",
      "['PR3_6', 'PR3_7', 'PR3_8', 'PR3_9', 'PR3_10', 'PR3_11', 'PR3_12', 'PR3_13', 'PR3_14', 'PR3_15', 'PR3_16', 'PR3_17', 'PR3_18', 'PR3_19', 'PR3_20', 'PR3_21', 'PR3_22', 'PR3_23', 'PR3_24', 'PR3_25', 'PR3_26', 'PR3_27', 'PR3_28', 'PR3_29', 'PR3_30', 'PR3_31', 'PR3_32', 'PR3_33', 'PR3_34', 'PR3_35', 'PR3_36', 'PR3_37', 'PR3_38', 'PR3_39', 'PR3_40', 'PR3_41', 'PR3_42', 'PR3_43', 'PR3_44', 'PR3_45', 'PR3_46', 'PR3_47', 'PR3_48', 'PR3_49', 'PR3_50', 'PR3_51', 'PR3_52', 'PR3_53', 'PR3_54', 'PR3_55']\n"
     ]
    }
   ],
   "source": [
    "\n",
    "train_pr3_transformed = ownLibrary.PolynomialRegrTransformationReturnDF(train_pr2_transformed, pr3_best_performance, 3)\n",
    "test_pr3_transformed = ownLibrary.PolynomialRegrTransformationReturnDF(test_pr2_transformed, pr3_best_performance, 3)\n",
    "submission_pr3_transformed = ownLibrary.PolynomialRegrTransformationReturnDF(submission_pr2_transformed, pr3_best_performance, 3)\n"
   ]
  },
  {
   "cell_type": "code",
   "execution_count": 44,
   "metadata": {},
   "outputs": [],
   "source": [
    "train_rwrk = copy.deepcopy(train_pr3_transformed)\n",
    "test_rwrk = copy.deepcopy(test_pr3_transformed) \n",
    "submission_rwrk = copy.deepcopy(submission_pr3_transformed) "
   ]
  },
  {
   "cell_type": "markdown",
   "metadata": {},
   "source": [
    "## Features harmonization between datasets\n",
    "\n",
    "Each data must have all features available"
   ]
  },
  {
   "cell_type": "code",
   "execution_count": 45,
   "metadata": {},
   "outputs": [
    {
     "name": "stdout",
     "output_type": "stream",
     "text": [
      "['Exterior1st_3', 'NewKitchen_23', 'Exterior1st_3', 'NewExterQualCond_12', 'NewKitchen_23']\n",
      "['NewCentrAirElec_13', 'NewExterQualCond_12']\n",
      "['GarageQual_2', 'NewCentrAirElec_13', 'SalePrice_log', 'GarageQual_2', 'SalePrice_log']\n"
     ]
    }
   ],
   "source": [
    "a = train_rwrk.columns.difference(test_rwrk.columns)\n",
    "b = submission_rwrk.columns.difference(test_rwrk.columns)\n",
    "manqueTest = a.tolist() + b.tolist()\n",
    "print (manqueTest)\n",
    "\n",
    "\n",
    "c = test_rwrk.columns.difference(train_rwrk.columns)\n",
    "d = submission_rwrk.columns.difference(train_rwrk.columns)\n",
    "manqueTrain = c.tolist() + d.tolist()\n",
    "print (manqueTrain)\n",
    "\n",
    "e = test_rwrk.columns.difference(submission_rwrk.columns)\n",
    "f = train_rwrk.columns.difference(submission_rwrk.columns)\n",
    "manqueSubmission = e.tolist() + f.tolist()\n",
    "print (manqueSubmission)\n",
    "\n",
    "\n",
    "for colonne in manqueTest :\n",
    "    test_rwrk[colonne] = 0\n",
    "\n",
    "for colonne in manqueTrain :\n",
    "    train_rwrk[colonne] = 0\n",
    "\n",
    "for colonne in manqueSubmission :\n",
    "    submission_rwrk[colonne] = 0\n"
   ]
  },
  {
   "cell_type": "code",
   "execution_count": 46,
   "metadata": {},
   "outputs": [
    {
     "name": "stdout",
     "output_type": "stream",
     "text": [
      "[]\n",
      "[]\n",
      "[]\n"
     ]
    }
   ],
   "source": [
    "a = train_rwrk.columns.difference(test_rwrk.columns)\n",
    "b = submission_rwrk.columns.difference(test_rwrk.columns)\n",
    "manqueTest = a.tolist() + b.tolist()\n",
    "print (manqueTest)\n",
    "\n",
    "\n",
    "c = test_rwrk.columns.difference(train_rwrk.columns)\n",
    "d = submission_rwrk.columns.difference(train_rwrk.columns)\n",
    "manqueTrain = c.tolist() + d.tolist()\n",
    "print (manqueTrain)\n",
    "\n",
    "e = test_rwrk.columns.difference(submission_rwrk.columns)\n",
    "f = train_rwrk.columns.difference(submission_rwrk.columns)\n",
    "manqueSubmission = e.tolist() + f.tolist()\n",
    "print (manqueSubmission)\n"
   ]
  },
  {
   "cell_type": "markdown",
   "metadata": {},
   "source": [
    "# Modeling"
   ]
  },
  {
   "cell_type": "code",
   "execution_count": 47,
   "metadata": {},
   "outputs": [],
   "source": [
    "from sklearn.neighbors import KNeighborsRegressor\n",
    "from sklearn.model_selection import GridSearchCV\n",
    "from sklearn.neural_network import MLPClassifier\n",
    "from sklearn.ensemble import RandomForestRegressor\n",
    "from sklearn.tree import DecisionTreeClassifier\n",
    "from sklearn.tree import DecisionTreeRegressor\n",
    "from sklearn.model_selection import cross_val_score\n",
    "from sklearn.linear_model import LinearRegression\n",
    "from sklearn.metrics import mean_squared_error, r2_score\n",
    "from sklearn.linear_model import Ridge\n",
    "\n",
    "import scipy\n",
    "from scipy import stats"
   ]
  },
  {
   "cell_type": "markdown",
   "metadata": {},
   "source": [
    "## Research of bests hyperparameters"
   ]
  },
  {
   "cell_type": "code",
   "execution_count": 275,
   "metadata": {},
   "outputs": [
    {
     "data": {
      "text/plain": [
       "\"\\nparams = {\\n    'n_neighbors':[5,7,9,11,13,15,17],\\n    'algorithm':['auto']\\n    }\\n#'algorithm':['auto', 'ball_tree', 'kd_tree', 'brute']\\nknn = KNeighborsRegressor()\\n\\nmodel = GridSearchCV(knn, params, cv=5)\\nmodel.fit(train_rwrk[X], train_rwrk[y])\\nmodel.best_params_\\n\""
      ]
     },
     "execution_count": 275,
     "metadata": {},
     "output_type": "execute_result"
    }
   ],
   "source": [
    "# ---------------- KNN ----------------\n",
    "'''\n",
    "params = {\n",
    "    'n_neighbors':[5,7,9,11,13,15,17],\n",
    "    'algorithm':['auto']\n",
    "    }\n",
    "#'algorithm':['auto', 'ball_tree', 'kd_tree', 'brute']\n",
    "knn = KNeighborsRegressor()\n",
    "\n",
    "model = GridSearchCV(knn, params, cv=5)\n",
    "model.fit(train_rwrk[X], train_rwrk[y])\n",
    "model.best_params_\n",
    "'''\n",
    "\n",
    "#{'algorithm': 'auto', 'n_neighbors': 9}"
   ]
  },
  {
   "cell_type": "code",
   "execution_count": 276,
   "metadata": {},
   "outputs": [
    {
     "data": {
      "text/plain": [
       "\"\\nparams = {\\n    'solver': ['adam','lbfgs','sgd'], \\n    }\\n\\nrn = MLPClassifier()\\n\\nmodel = GridSearchCV(rn, params, cv=5)\\nmodel.fit(train_rwrk[X], train_rwrk[y])\\nmodel.best_params_\\n\""
      ]
     },
     "execution_count": 276,
     "metadata": {},
     "output_type": "execute_result"
    }
   ],
   "source": [
    "# ---------------- Réseaux de neurones ----------------\n",
    "'''\n",
    "params = {\n",
    "    'solver': ['adam','lbfgs','sgd'], \n",
    "    }\n",
    "\n",
    "rn = MLPClassifier()\n",
    "\n",
    "model = GridSearchCV(rn, params, cv=5)\n",
    "model.fit(train_rwrk[X], train_rwrk[y])\n",
    "model.best_params_\n",
    "'''\n",
    "#{'solver': 'adam'}"
   ]
  },
  {
   "cell_type": "code",
   "execution_count": 277,
   "metadata": {},
   "outputs": [
    {
     "data": {
      "text/plain": [
       "\"params = {\\n    'n_estimators':[40,45,50,55,60], \\n    'max_depth':[5,6,7,8,9,10], \\n    'min_samples_split':[2,3,4],\\n    'min_samples_leaf':[1,2,3], \\n    }\\n\\nrfr = RandomForestRegressor()\\n\\nmodel = GridSearchCV(rfr, params, cv=5)\\nmodel.fit(train_rwrk[X], train_rwrk[y])\\nmodel.best_params_\\n\""
      ]
     },
     "execution_count": 277,
     "metadata": {},
     "output_type": "execute_result"
    }
   ],
   "source": [
    "# ---------------- Forêt aléatoire ----------------\n",
    "'''params = {\n",
    "    'n_estimators':[40,45,50,55,60], \n",
    "    'max_depth':[5,6,7,8,9,10], \n",
    "    'min_samples_split':[2,3,4],\n",
    "    'min_samples_leaf':[1,2,3], \n",
    "    }\n",
    "\n",
    "rfr = RandomForestRegressor()\n",
    "\n",
    "model = GridSearchCV(rfr, params, cv=5)\n",
    "model.fit(train_rwrk[X], train_rwrk[y])\n",
    "model.best_params_\n",
    "'''\n",
    "#{'max_depth': 8,\n",
    "# 'min_samples_leaf': 2,\n",
    "# 'min_samples_split': 2,\n",
    "# 'n_estimators': 55}"
   ]
  },
  {
   "cell_type": "code",
   "execution_count": 278,
   "metadata": {},
   "outputs": [
    {
     "data": {
      "text/plain": [
       "\"\\nparams = {\\n    'max_depth':[40,45,50,55,60], \\n    'min_samples_split':[2,3,4],\\n    'min_samples_leaf':[1,2,3], \\n    }\\n\\ndtr = DecisionTreeClassifier()\\n\\nmodel = GridSearchCV(dtr, params, cv=5)\\nmodel.fit(train_rwrk[X], train_rwrk[y])\\nmodel.best_params_\\n\""
      ]
     },
     "execution_count": 278,
     "metadata": {},
     "output_type": "execute_result"
    }
   ],
   "source": [
    "# ---------------- Arbre de décision regressor ----------------\n",
    "\n",
    "'''\n",
    "params = {\n",
    "    'max_depth':[40,45,50,55,60], \n",
    "    'min_samples_split':[2,3,4],\n",
    "    'min_samples_leaf':[1,2,3], \n",
    "    }\n",
    "\n",
    "dtr = DecisionTreeClassifier()\n",
    "\n",
    "model = GridSearchCV(dtr, params, cv=5)\n",
    "model.fit(train_rwrk[X], train_rwrk[y])\n",
    "model.best_params_\n",
    "'''\n",
    "#{'max_depth': 45, 'min_samples_leaf': 2, 'min_samples_split': 3}"
   ]
  },
  {
   "cell_type": "markdown",
   "metadata": {},
   "source": [
    "# Features selection"
   ]
  },
  {
   "cell_type": "code",
   "execution_count": 49,
   "metadata": {},
   "outputs": [
    {
     "name": "stdout",
     "output_type": "stream",
     "text": [
      "For 261 features the stepwise needs around 3 minutes 17\n",
      "You have 256 features\n"
     ]
    }
   ],
   "source": [
    "print('For 261 features the stepwise needs around 3 minutes 17')\n",
    "print('You have ' + str(len(train_rwrk.columns)) + ' features')\n",
    "\n",
    "\n",
    "\n",
    "features = train_rwrk.columns\n",
    "features_selection_ignore = ['SalePrice','Id','SalePrice_log']\n",
    "features_to_use = [var for var in features if var not in features_selection_ignore ]\n",
    "target_feature = 'SalePrice_log'\n",
    "\n",
    "Xtrain = train_rwrk[features_to_use]\n",
    "ytrain = train_rwrk[target_feature]\n",
    "Xtest = test_rwrk[features_to_use]\n",
    "ytest = test_rwrk[target_feature]\n",
    "\n",
    "\n",
    "perform_recursive_feature_addition = True\n",
    "perform_recursive_feature_elimination = True\n",
    "perform_stepwise = True\n",
    "perform_exhaustive_features_selection = False\n",
    "perform_random_forest_regressor_selection = False\n"
   ]
  },
  {
   "cell_type": "code",
   "execution_count": 281,
   "metadata": {},
   "outputs": [
    {
     "data": {
      "text/plain": [
       "254"
      ]
     },
     "execution_count": 281,
     "metadata": {},
     "output_type": "execute_result"
    }
   ],
   "source": [
    "len(features_to_use[1:])"
   ]
  },
  {
   "cell_type": "markdown",
   "metadata": {},
   "source": [
    "## Recursive feature addition"
   ]
  },
  {
   "cell_type": "code",
   "execution_count": 50,
   "metadata": {},
   "outputs": [
    {
     "name": "stdout",
     "output_type": "stream",
     "text": [
      "253\n",
      "0.9010945785704076\n",
      "81\n"
     ]
    }
   ],
   "source": [
    "print(len(features_to_use))\n",
    "if(perform_recursive_feature_addition == True):\n",
    "    #model = Ridge(alpha=7)\n",
    "    model = LinearRegression()\n",
    "    RFA_features = ownLibrary.recursive_feature_addition(Xtrain, ytrain, Xtest, ytest, model)[0]"
   ]
  },
  {
   "cell_type": "code",
   "execution_count": 51,
   "metadata": {},
   "outputs": [
    {
     "name": "stdout",
     "output_type": "stream",
     "text": [
      "['MasVnrArea', 'BsmtFinSF1', 'BsmtUnfSF', 'TotalBsmtSF', '1stFlrSF', '2ndFlrSF', 'GarageArea', 'ScreenPorch', 'TotalSF', 'Total_Bathrooms', 'hasgarage', 'hasfireplace', 'MSSubClass_1', 'MSSubClass_2', 'MSSubClass_3', 'MSZoning_2', 'LotFrontage_1', 'LotArea_2', 'Alley_1', 'LotShape_1', 'LandContour_1', 'LandSlope_1', 'Neighborhood_1', 'Neighborhood_2', 'Condition1_1', 'BldgType_2', 'BldgType_3', 'OverallQual_1', 'OverallQual_2', 'OverallQual_3', 'OverallCond_1', 'OverallCond_2', 'YearBuilt_2', 'YearBuilt_3', 'YearBuilt_4', 'YearRemodAdd_1', 'YearRemodAdd_4', 'RoofStyle_1', 'MasVnrType_1', 'Foundation_1', 'BsmtCond_1', 'BsmtCond_2', 'BsmtExposure_1', 'BsmtFinType2_2', 'BsmtFinType2_3', 'HeatingQC_1', 'HalfBath_1', 'BedroomAbvGr_3', 'BedroomAbvGr_4', 'TotRmsAbvGrd_3', 'TotRmsAbvGrd_4', 'Functional_1', 'Functional_2', 'GarageYrBlt_2', 'GarageCars_4', 'GarageCond_3', 'GarageCond_4', 'PavedDrive_1', 'WoodDeckSF_1', 'WoodDeckSF_3', 'EnclosedPorch_2', 'Fence_3', 'YrSold_1', 'YrSold_2', 'YrSold_4', 'YrBltAndRemod_1', 'YrBltAndRemod_4', 'NewExterQualCond_11', 'NewExterQualCond_21', 'NewCentrAirElec_11', 'NewCentrAirElec_12', 'NewKitchen_11', 'NewSale_11', 'NewSale_12', 'NewSale_13', '1stFlrSFGarageArea', 'PR3_9', 'PR3_11', 'PR3_21', 'PR3_24', 'PR3_31']\n"
     ]
    }
   ],
   "source": [
    "print(RFA_features)"
   ]
  },
  {
   "cell_type": "markdown",
   "metadata": {},
   "source": [
    "##  recursive_feature_elimination_rf"
   ]
  },
  {
   "cell_type": "code",
   "execution_count": 236,
   "metadata": {},
   "outputs": [
    {
     "data": {
      "text/plain": [
       "<module 'LibrairiePerso_v4_7' from 'C:\\\\Users\\\\Julie\\\\Documents\\\\Big_Data\\\\github\\\\LibrairiePerso_v4_7.py'>"
      ]
     },
     "execution_count": 236,
     "metadata": {},
     "output_type": "execute_result"
    }
   ],
   "source": [
    "import importlib\n",
    "importlib.reload(ownLibrary)"
   ]
  },
  {
   "cell_type": "code",
   "execution_count": 52,
   "metadata": {},
   "outputs": [
    {
     "name": "stdout",
     "output_type": "stream",
     "text": [
      "score : 0.9034803080333439\n",
      "total features to remove:  154\n",
      "total features to keep:  99\n"
     ]
    }
   ],
   "source": [
    "if(perform_recursive_feature_elimination == True):\n",
    "    #model = Ridge(alpha=7)\n",
    "    model = LinearRegression()\n",
    "    RFE_features = ownLibrary.recursive_feature_elimination_rf(Xtrain, ytrain, Xtest, ytest, model)[0]"
   ]
  },
  {
   "cell_type": "code",
   "execution_count": 53,
   "metadata": {},
   "outputs": [
    {
     "name": "stdout",
     "output_type": "stream",
     "text": [
      "['TotalBsmtSF', 'GrLivArea', 'GarageArea', 'ScreenPorch', 'Total_sqr_footage', 'haspool', 'has2ndfloor', 'MSSubClass_2', 'MSZoning_3', 'LotFrontage_2', 'LotFrontage_3', 'LotArea_2', 'LotArea_3', 'LotArea_4', 'LandContour_2', 'LotConfig_2', 'LotConfig_3', 'Neighborhood_2', 'Neighborhood_3', 'Condition1_2', 'Condition1_3', 'HouseStyle_2', 'OverallQual_2', 'OverallQual_3', 'OverallQual_4', 'OverallCond_2', 'OverallCond_3', 'YearRemodAdd_3', 'YearRemodAdd_4', 'Exterior1st_2', 'Foundation_2', 'BsmtQual_2', 'BsmtQual_3', 'BsmtExposure_2', 'BsmtFinType2_3', 'BsmtFinSF2_4', 'HeatingQC_2', 'BsmtFullBath_2', 'BsmtFullBath_3', 'FullBath_2', 'HalfBath_2', 'BedroomAbvGr_4', 'TotRmsAbvGrd_3', 'TotRmsAbvGrd_4', 'Functional_2', 'Functional_3', 'GarageYrBlt_3', 'GarageCars_2', 'GarageCars_3', 'GarageCars_4', 'GarageQual_2', 'GarageCond_1', 'GarageCond_3', 'PavedDrive_2', 'WoodDeckSF_4', 'OpenPorchSF_2', 'EnclosedPorch_2', 'MoSold_3', 'YrSold_4', 'YrBltAndRemod_2', 'YrBltAndRemod_4', 'NewFirePlaces_22', 'NewFirePlaces_23', 'NewFirePlaces_24', 'NewExterQualCond_21', 'NewExterQualCond_22', 'NewCentrAirElec_21', 'NewKitchen_12', 'NewKitchen_13', 'NewKitchen_22', 'NewSale_12', 'NewSale_13', '1stFlrSFGarageArea', 'GarageArea²', 'PR3_6', 'PR3_7', 'PR3_9', 'PR3_10', 'PR3_12', 'PR3_14', 'PR3_15', 'PR3_18', 'PR3_19', 'PR3_20', 'PR3_21', 'PR3_23', 'PR3_24', 'PR3_25', 'PR3_27', 'PR3_30', 'PR3_33', 'PR3_36', 'PR3_45', 'PR3_46', 'PR3_49', 'PR3_50', 'PR3_52', 'PR3_54', 'PR3_55']\n"
     ]
    }
   ],
   "source": [
    "print(RFE_features)"
   ]
  },
  {
   "cell_type": "markdown",
   "metadata": {},
   "source": [
    "## Stepwise function"
   ]
  },
  {
   "cell_type": "code",
   "execution_count": 54,
   "metadata": {
    "scrolled": true
   },
   "outputs": [
    {
     "name": "stderr",
     "output_type": "stream",
     "text": [
      "c:\\users\\julie\\appdata\\local\\programs\\python\\python35\\lib\\site-packages\\numpy\\core\\fromnumeric.py:2542: FutureWarning: Method .ptp is deprecated and will be removed in a future version. Use numpy.ptp instead.\n",
      "  return ptp(axis=axis, out=out, **kwargs)\n",
      "c:\\users\\julie\\appdata\\local\\programs\\python\\python35\\lib\\site-packages\\statsmodels\\base\\model.py:1362: RuntimeWarning: invalid value encountered in true_divide\n",
      "  return self.params / self.bse\n",
      "c:\\users\\julie\\appdata\\local\\programs\\python\\python35\\lib\\site-packages\\scipy\\stats\\_distn_infrastructure.py:903: RuntimeWarning: invalid value encountered in greater\n",
      "  return (a < x) & (x < b)\n",
      "c:\\users\\julie\\appdata\\local\\programs\\python\\python35\\lib\\site-packages\\scipy\\stats\\_distn_infrastructure.py:903: RuntimeWarning: invalid value encountered in less\n",
      "  return (a < x) & (x < b)\n",
      "c:\\users\\julie\\appdata\\local\\programs\\python\\python35\\lib\\site-packages\\scipy\\stats\\_distn_infrastructure.py:1912: RuntimeWarning: invalid value encountered in less_equal\n",
      "  cond2 = cond0 & (x <= _a)\n",
      "C:\\Users\\Julie\\Documents\\Big_Data\\github\\LibrairiePerso_v4_7.py:187: FutureWarning: \n",
      "The current behaviour of 'Series.argmin' is deprecated, use 'idxmin'\n",
      "instead.\n",
      "The behavior of 'argmin' will be corrected to return the positional\n",
      "minimum in the future. For now, use 'series.values.argmin' or\n",
      "'np.argmin(np.array(values))' to get the position of the minimum\n",
      "row.\n",
      "  best_feature = new_pval.argmin()\n",
      "C:\\Users\\Julie\\Documents\\Big_Data\\github\\LibrairiePerso_v4_7.py:200: FutureWarning: \n",
      "The current behaviour of 'Series.argmax' is deprecated, use 'idxmax'\n",
      "instead.\n",
      "The behavior of 'argmax' will be corrected to return the positional\n",
      "maximum in the future. For now, use 'series.values.argmax' or\n",
      "'np.argmax(np.array(values))' to get the position of the maximum\n",
      "row.\n",
      "  worst_feature = pvalues.argmax()\n"
     ]
    },
    {
     "name": "stdout",
     "output_type": "stream",
     "text": [
      "resulting features:\n",
      "41 features selected\n"
     ]
    }
   ],
   "source": [
    "if (perform_stepwise == True):\n",
    "\n",
    "    Stepwise_features = ownLibrary.stepwise_selection(Xtrain, ytrain, verbose=False)\n",
    "\n",
    "    print('resulting features:')\n",
    "    print(str(len(Stepwise_features)) + ' features selected')"
   ]
  },
  {
   "cell_type": "code",
   "execution_count": 61,
   "metadata": {},
   "outputs": [
    {
     "name": "stdout",
     "output_type": "stream",
     "text": [
      "['Neighborhood_3', 'GarageArea', 'Total_Bathrooms', 'MSSubClass_2', 'OverallCond_1', 'OverallQual_4', 'PR3_22', 'Total_sqr_footage', 'BsmtQual_1', 'YrBltAndRemod_1', 'NewFirePlaces_14', 'hasfireplace', 'OverallCond_3', 'OverallCond_2', 'Foundation_1', 'Foundation_2', 'MSZoning_2', 'MSZoning_3', 'NewSale_12', 'OverallQual_1', 'BsmtFinSF2_2', 'NewKitchen_11', 'Exterior1st_1', 'NewCentrAirElec_22', 'BsmtExposure_1', 'OverallQual_2', 'OverallQual_3', 'Neighborhood_1', 'Neighborhood_2', 'TotalSF', 'PR3_24', 'Condition1_2', 'LotArea_4', 'Functional_3', 'YearRemodAdd_2', 'YearBuilt_4', 'NewCentrAirElec_21', 'haspool', 'MoSold_2', 'Exterior1st_3', 'Exterior1st_2']\n"
     ]
    },
    {
     "name": "stderr",
     "output_type": "stream",
     "text": [
      "c:\\users\\julie\\appdata\\local\\programs\\python\\python35\\lib\\site-packages\\sklearn\\linear_model\\_ridge.py:148: LinAlgWarning: Ill-conditioned matrix (rcond=4.92245e-21): result may not be accurate.\n",
      "  overwrite_a=True).T\n"
     ]
    },
    {
     "name": "stdout",
     "output_type": "stream",
     "text": [
      "------------- Ridge Regression -------------\n",
      "\n",
      "Train : R² = 91.9% , rsquared = 92.1% , corr = 96.0% , MSE = 504977452.48\n",
      "Test : R² = 89.5% , rsqaured = 89.6% , corr = 94.7% , MSE = 673243292.00\n",
      "\n",
      "------------- Regression linéaire multivariée -------------\n",
      "\n",
      "Train : R² = 92.4% , rsquared = 92.5% , corr = 96.2% , MSE = 474399934.15\n",
      "Test : R² = 89.5% , rsqaured = 89.6% , corr = 94.6% , MSE = 674232656.69\n",
      "\n",
      "------------- Forêt aléatoire -------------\n",
      "\n",
      "Train : R² = 98.0% , rsquared = 98.2% , corr = 99.1% , MSE = 124943063.71\n",
      "Test : R² = 85.7% , rsqaured = 85.9% , corr = 92.7% , MSE = 919288166.81\n",
      "\n"
     ]
    }
   ],
   "source": [
    "print(Stepwise_features)\n",
    "\n",
    "models_features_selection = {\n",
    "    'fa' : {\n",
    "        'label' : 'Forêt aléatoire',\n",
    "        #'function' : RandomForestRegressor(n_estimators=7, max_depth=11, min_samples_split=3, min_samples_leaf=1, random_state=0, n_jobs=-1)\n",
    "        'function' : RandomForestRegressor(n_estimators=35, max_depth=11, min_samples_split=3, min_samples_leaf=1, random_state=0, n_jobs=-1)\n",
    "    },\n",
    "    'mrl' : {\n",
    "        'label' : 'Regression linéaire multivariée',\n",
    "        'function' : LinearRegression()\n",
    "    },\n",
    "    'rr' : {\n",
    "        'label' : 'Ridge Regression',\n",
    "        'function' : Ridge(alpha=9)\n",
    "    }\n",
    "}\n",
    "for model in models_features_selection :\n",
    "    models_features_selection[model]['function'].fit(Xtrain[Stepwise_features], ytrain)\n",
    "predictions_train = ownLibrary.runModels1DS(train_rwrk, 'train', Stepwise_features, 'SalePrice_log', models_features_selection)\n",
    "predictions_test = ownLibrary.runModels1DS(test_rwrk, 'test', Stepwise_features, 'SalePrice_log', models_features_selection)\n",
    "\n",
    "ownLibrary.afficheResults(predictions_train, predictions_test, 'SalePrice', models_features_selection)"
   ]
  },
  {
   "cell_type": "markdown",
   "metadata": {},
   "source": [
    "## Random Forest Regressor Selector"
   ]
  },
  {
   "cell_type": "code",
   "execution_count": null,
   "metadata": {},
   "outputs": [],
   "source": [
    "if (perform_random_forest_regressor_selection == True):\n",
    "    RFR_features = ownLibrary.RFR_select_features(Xtrain, ytrain)"
   ]
  },
  {
   "cell_type": "markdown",
   "metadata": {},
   "source": [
    "## Exhaustive Feature Selector"
   ]
  },
  {
   "cell_type": "code",
   "execution_count": null,
   "metadata": {},
   "outputs": [],
   "source": [
    "if (perform_exhaustive_features_selection == True):\n",
    "    EFX_features = ownLibrary.ExhaustiveFeatureSelector(train_rwrk[modelisation_feature], train_rwrk[target_feature], min_features=1 , max_features=5)[0]\n"
   ]
  },
  {
   "cell_type": "code",
   "execution_count": 77,
   "metadata": {},
   "outputs": [
    {
     "name": "stdout",
     "output_type": "stream",
     "text": [
      "81\n",
      "99\n",
      "41\n"
     ]
    },
    {
     "data": {
      "text/plain": [
       "'\\nif(RFR_features):\\n    print(len(RFR_features))\\nif(EFX_features):\\n    print(len(EFX_features))\\n'"
      ]
     },
     "execution_count": 77,
     "metadata": {},
     "output_type": "execute_result"
    }
   ],
   "source": [
    "if(RFA_features):\n",
    "    print(len(RFA_features))\n",
    "if(RFE_features):\n",
    "    print(len(RFE_features))\n",
    "if(Stepwise_features):\n",
    "    print(len(Stepwise_features))\n",
    "'''\n",
    "if(RFR_features):\n",
    "    print(len(RFR_features))\n",
    "if(EFX_features):\n",
    "    print(len(EFX_features))\n",
    "'''"
   ]
  },
  {
   "cell_type": "markdown",
   "metadata": {},
   "source": [
    "## Features selected behavior study"
   ]
  },
  {
   "cell_type": "code",
   "execution_count": 62,
   "metadata": {
    "scrolled": true
   },
   "outputs": [
    {
     "name": "stdout",
     "output_type": "stream",
     "text": [
      "max R² = 0.885\n",
      "Index of max R² : 37\n",
      "Index(['Neighborhood_3', 'GarageArea', 'Total_Bathrooms', 'MSSubClass_2',\n",
      "       'OverallCond_1', 'OverallQual_4', 'PR3_22', 'Total_sqr_footage',\n",
      "       'BsmtQual_1', 'YrBltAndRemod_1', 'NewFirePlaces_14', 'hasfireplace',\n",
      "       'OverallCond_3', 'OverallCond_2', 'Foundation_1', 'Foundation_2',\n",
      "       'MSZoning_2', 'MSZoning_3', 'NewSale_12', 'OverallQual_1',\n",
      "       'BsmtFinSF2_2', 'NewKitchen_11', 'Exterior1st_1', 'NewCentrAirElec_22',\n",
      "       'BsmtExposure_1', 'OverallQual_2', 'OverallQual_3', 'Neighborhood_1',\n",
      "       'Neighborhood_2', 'TotalSF', 'PR3_24', 'Condition1_2', 'LotArea_4',\n",
      "       'Functional_3', 'YearRemodAdd_2', 'YearBuilt_4', 'NewCentrAirElec_21'],\n",
      "      dtype='object')\n"
     ]
    },
    {
     "data": {
      "image/png": "[encoded data removed]",
      "text/plain": [
       "<Figure size 720x216 with 1 Axes>"
      ]
     },
     "metadata": {
      "needs_background": "light"
     },
     "output_type": "display_data"
    }
   ],
   "source": [
    "model = LinearRegression()\n",
    "ownLibrary.feature_behavior_observation(train_rwrk[Stepwise_features],ytrain,test_rwrk[Stepwise_features], ytest, model)"
   ]
  },
  {
   "cell_type": "markdown",
   "metadata": {},
   "source": [
    "# Correlation"
   ]
  },
  {
   "cell_type": "code",
   "execution_count": 1,
   "metadata": {},
   "outputs": [
    {
     "ename": "NameError",
     "evalue": "name 'pd' is not defined",
     "output_type": "error",
     "traceback": [
      "\u001b[1;31m---------------------------------------------------------------------------\u001b[0m",
      "\u001b[1;31mNameError\u001b[0m                                 Traceback (most recent call last)",
      "\u001b[1;32m<ipython-input-1-b277ebfc6976>\u001b[0m in \u001b[0;36m<module>\u001b[1;34m\u001b[0m\n\u001b[1;32m----> 1\u001b[1;33m \u001b[0mmatrice_corr\u001b[0m \u001b[1;33m=\u001b[0m \u001b[0mpd\u001b[0m\u001b[1;33m.\u001b[0m\u001b[0mconcat\u001b[0m\u001b[1;33m(\u001b[0m\u001b[1;33m[\u001b[0m\u001b[0mtrain_rwrk\u001b[0m\u001b[1;33m[\u001b[0m\u001b[0mStepwise_features\u001b[0m\u001b[1;33m]\u001b[0m\u001b[1;33m,\u001b[0m\u001b[0mtrain_rwrk\u001b[0m\u001b[1;33m[\u001b[0m\u001b[1;34m'SalePrice_log'\u001b[0m\u001b[1;33m]\u001b[0m\u001b[1;33m]\u001b[0m\u001b[1;33m,\u001b[0m \u001b[0maxis\u001b[0m\u001b[1;33m=\u001b[0m\u001b[1;36m1\u001b[0m\u001b[1;33m,\u001b[0m \u001b[0msort\u001b[0m\u001b[1;33m=\u001b[0m\u001b[1;32mTrue\u001b[0m\u001b[1;33m)\u001b[0m\u001b[1;33m\u001b[0m\u001b[0m\n\u001b[0m\u001b[0;32m      2\u001b[0m \u001b[0mplt\u001b[0m\u001b[1;33m.\u001b[0m\u001b[0mmatshow\u001b[0m\u001b[1;33m(\u001b[0m\u001b[0mmatrice_corr\u001b[0m\u001b[1;33m.\u001b[0m\u001b[0mcorr\u001b[0m\u001b[1;33m(\u001b[0m\u001b[1;33m)\u001b[0m\u001b[1;33m)\u001b[0m\u001b[1;33m\u001b[0m\u001b[0m\n\u001b[0;32m      3\u001b[0m \u001b[0mplt\u001b[0m\u001b[1;33m.\u001b[0m\u001b[0mshow\u001b[0m\u001b[1;33m(\u001b[0m\u001b[1;33m)\u001b[0m\u001b[1;33m\u001b[0m\u001b[0m\n\u001b[0;32m      4\u001b[0m \u001b[1;33m\u001b[0m\u001b[0m\n\u001b[0;32m      5\u001b[0m \u001b[1;31m#matrice_corr.corr().to_excel (path + \"corr.xlsx\", index = False, header=True)\u001b[0m\u001b[1;33m\u001b[0m\u001b[1;33m\u001b[0m\u001b[0m\n",
      "\u001b[1;31mNameError\u001b[0m: name 'pd' is not defined"
     ]
    }
   ],
   "source": [
    "matrice_corr = pd.concat([train_rwrk[Stepwise_features],train_rwrk['SalePrice_log']], axis=1, sort=True)\n",
    "plt.matshow(matrice_corr.corr())\n",
    "plt.show()\n",
    "\n",
    "#matrice_corr.corr().to_excel (path + \"corr.xlsx\", index = False, header=True)"
   ]
  },
  {
   "cell_type": "markdown",
   "metadata": {},
   "source": [
    "# Modeling"
   ]
  },
  {
   "cell_type": "code",
   "execution_count": 63,
   "metadata": {},
   "outputs": [],
   "source": [
    "y = 'SalePrice_log'"
   ]
  },
  {
   "cell_type": "code",
   "execution_count": 64,
   "metadata": {},
   "outputs": [
    {
     "data": {
      "text/plain": [
       "\"\\n'dtc' : {\\n'label' : 'Arbre de décision - Classifier',\\n'function' : DecisionTreeClassifier(max_depth=6)\\n},\\n\""
      ]
     },
     "execution_count": 64,
     "metadata": {},
     "output_type": "execute_result"
    }
   ],
   "source": [
    "    models = {\n",
    "        'fa' : {\n",
    "            'label' : 'Forêt aléatoire',\n",
    "            #'function' : RandomForestRegressor(n_estimators=7, max_depth=11, min_samples_split=3, min_samples_leaf=1, random_state=0, n_jobs=-1)\n",
    "            'function' : RandomForestRegressor(n_estimators=35, max_depth=11, min_samples_split=3, min_samples_leaf=1, random_state=0, n_jobs=-1)\n",
    "        },\n",
    "        'knn' : {\n",
    "            'label' : 'KNN',\n",
    "            'function' : KNeighborsRegressor(n_neighbors=9, algorithm = \"auto\")\n",
    "        },\n",
    "        'dtr' : {\n",
    "            'label' : 'Arbre de décision - Regressor',\n",
    "            'function' : DecisionTreeRegressor(min_samples_leaf = 2, min_samples_split = 3, max_depth =45)\n",
    "        },\n",
    "        'mrl' : {\n",
    "            'label' : 'Regression linéaire multivariée',\n",
    "            'function' : LinearRegression()\n",
    "        },\n",
    "        'rr' : {\n",
    "            'label' : 'Ridge Regression',\n",
    "            'function' : Ridge(alpha=7)\n",
    "        }\n",
    "    }\n",
    "    \n",
    "    \n",
    "'''\n",
    "'rn' : {\n",
    "    'label' : 'Réseaux de neurones',\n",
    "    'function' : MLPClassifier(hidden_layer_sizes=(5, 15), random_state=0, max_iter = 500, solver = 'adam', alpha= 0.05),\n",
    "},\n",
    "'''\n",
    "'''\n",
    "'dtc' : {\n",
    "    'label' : 'Arbre de décision - Classifier',\n",
    "    'function' : DecisionTreeClassifier(max_depth=6)\n",
    "},\n",
    "'''"
   ]
  },
  {
   "cell_type": "markdown",
   "metadata": {},
   "source": [
    "## Run modeling"
   ]
  },
  {
   "cell_type": "code",
   "execution_count": 75,
   "metadata": {},
   "outputs": [
    {
     "name": "stdout",
     "output_type": "stream",
     "text": [
      "81\n"
     ]
    }
   ],
   "source": [
    "modelisation_feature = RFA_features\n",
    "print(len(modelisation_feature))"
   ]
  },
  {
   "cell_type": "code",
   "execution_count": 76,
   "metadata": {},
   "outputs": [
    {
     "name": "stderr",
     "output_type": "stream",
     "text": [
      "c:\\users\\julie\\appdata\\local\\programs\\python\\python35\\lib\\site-packages\\sklearn\\linear_model\\_ridge.py:148: LinAlgWarning: Ill-conditioned matrix (rcond=1.75069e-22): result may not be accurate.\n",
      "  overwrite_a=True).T\n"
     ]
    },
    {
     "name": "stdout",
     "output_type": "stream",
     "text": [
      "------------- KNN -------------\n",
      "\n",
      "Train : R² = 59.8% , rsquared = 61.2% , corr = 78.2% , MSE = 2514656705.40\n",
      "Test : R² = 55.1% , rsqaured = 56.2% , corr = 75.0% , MSE = 2892942309.77\n",
      "\n",
      "------------- Arbre de décision - Regressor -------------\n",
      "\n",
      "Train : R² = 98.3% , rsquared = 98.3% , corr = 99.1% , MSE = 109215268.32\n",
      "Test : R² = 78.9% , rsqaured = 79.3% , corr = 89.0% , MSE = 1356120228.77\n",
      "\n",
      "------------- Regression linéaire multivariée -------------\n",
      "\n",
      "Train : R² = 91.4% , rsquared = 91.5% , corr = 95.6% , MSE = 536897456.30\n",
      "Test : R² = 91.5% , rsqaured = 91.7% , corr = 95.7% , MSE = 544419945.20\n",
      "\n",
      "------------- Forêt aléatoire -------------\n",
      "\n",
      "Train : R² = 97.1% , rsquared = 97.5% , corr = 98.7% , MSE = 184123885.61\n",
      "Test : R² = 84.9% , rsqaured = 85.7% , corr = 92.6% , MSE = 969871931.12\n",
      "\n",
      "------------- Ridge Regression -------------\n",
      "\n",
      "Train : R² = 91.3% , rsquared = 91.4% , corr = 95.6% , MSE = 546542594.49\n",
      "Test : R² = 91.4% , rsqaured = 91.5% , corr = 95.7% , MSE = 556500011.22\n",
      "\n"
     ]
    }
   ],
   "source": [
    "# Les deux méthodes font la même chose\n",
    "\n",
    "# -------------------- fit model + Train et test en deux fois + affichage résultats -----------------\n",
    "\n",
    "for model in models :\n",
    "    models[model]['function'].fit(train_rwrk[modelisation_feature], train_rwrk[y])\n",
    "predictions_train = ownLibrary.runModels1DS(train_rwrk, 'train', modelisation_feature, y, models)\n",
    "predictions_test = ownLibrary.runModels1DS(test_rwrk, 'test', modelisation_feature, y, models)\n",
    "\n",
    "ownLibrary.afficheResults(predictions_train, predictions_test, 'SalePrice', models)\n"
   ]
  }
 ],
 "metadata": {
  "kernelspec": {
   "display_name": "Python 3",
   "language": "python",
   "name": "python3"
  },
  "language_info": {
   "codemirror_mode": {
    "name": "ipython",
    "version": 3
   },
   "file_extension": ".py",
   "mimetype": "text/x-python",
   "name": "python",
   "nbconvert_exporter": "python",
   "pygments_lexer": "ipython3",
   "version": "3.5.2"
  }
 },
 "nbformat": 4,
 "nbformat_minor": 4
}
